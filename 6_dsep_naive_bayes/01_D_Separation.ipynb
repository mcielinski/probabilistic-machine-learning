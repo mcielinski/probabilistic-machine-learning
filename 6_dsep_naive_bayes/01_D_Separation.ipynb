{
 "cells": [
  {
   "cell_type": "markdown",
   "metadata": {},
   "source": [
    "Przed oddaniem zadania upewnij się, że wszystko działa poprawnie.\n",
    "**Uruchom ponownie kernel** (z paska menu: Kernel$\\rightarrow$Restart) a następnie\n",
    "**wykonaj wszystkie komórki** (z paska menu: Cell$\\rightarrow$Run All).\n",
    "\n",
    "Upewnij się, że wypełniłeś wszystkie pola `TU WPISZ KOD` lub `TU WPISZ ODPOWIEDŹ`, oraz\n",
    "że podałeś swoje imię i nazwisko poniżej:"
   ]
  },
  {
   "cell_type": "code",
   "execution_count": 1,
   "metadata": {},
   "outputs": [
    {
     "output_type": "execute_result",
     "data": {
      "text/plain": [
       "True"
      ]
     },
     "metadata": {},
     "execution_count": 1
    }
   ],
   "source": [
    "NAME = \"Marcel Cielinski\"\n",
    "\n",
    "import sys\n",
    "sys.executable.split('/')[-3] == 'puma_venv'"
   ]
  },
  {
   "cell_type": "markdown",
   "metadata": {},
   "source": [
    "---"
   ]
  },
  {
   "cell_type": "code",
   "execution_count": 2,
   "metadata": {},
   "outputs": [],
   "source": [
    "import itertools\n",
    "import pickle\n",
    "from typing import List, Optional, Tuple, Union\n",
    "\n",
    "import matplotlib.pyplot as plt\n",
    "import networkx as nx\n",
    "import numpy as np\n",
    "import pandas as pd"
   ]
  },
  {
   "cell_type": "markdown",
   "metadata": {},
   "source": [
    "# D-separacja"
   ]
  },
  {
   "cell_type": "markdown",
   "metadata": {},
   "source": [
    "W trakcie ostatniej listy zadań wspomnieliśmy o tzw. **d-separowalności** zmiennych losowych (wierzchołków) w modelach graficznych. Dla zmiennych losowych $X, Y, Z$, jeśli $X$ oraz $Y$ są **d-separowalne** podczas obserwacji zmiennej $Z$, to $X$ i $Y$ są **niezależne warunkowo** pod warunkiem $Z$ - oznaczamy to jako $X \\perp Y | Z$."
   ]
  },
  {
   "cell_type": "markdown",
   "metadata": {},
   "source": [
    "**Definicja d-separowalności**\n",
    "\n",
    "Zmienne $X$ oraz $Y$ są d-separowalne podczas obserwacji $Z$, jeśli **wszystkie** ścieżki z wierzchołka $X$ do wierzchołka $Y$ są **zablokowane**."
   ]
  },
  {
   "cell_type": "markdown",
   "metadata": {},
   "source": [
    "**Definicja zablokowanej ścieżki**\n",
    "\n",
    "Ścieżka między dwoma wierzchołkami jest **zablokowana względem $C$**, gdzie $C$ to zbiór zmiennych obserwowanych, jeśli ścieżka przechodzi przez wierzchołek $v$, w taki sposób że (jedna z opcji):\n",
    "\n",
    "- połączenie jest typu **head-tail** lub **tail-tail** oraz $v \\in C$,\n",
    "- połączenie jest typu **head-head** oraz $v \\notin C$ oraz żaden z **potomków $v$ nie należy do $C$**"
   ]
  },
  {
   "cell_type": "markdown",
   "metadata": {},
   "source": [
    "![](assets/d_sep.png)"
   ]
  },
  {
   "cell_type": "markdown",
   "metadata": {},
   "source": [
    "# Przykład"
   ]
  },
  {
   "cell_type": "code",
   "execution_count": 3,
   "metadata": {},
   "outputs": [],
   "source": [
    "def get_graph():\n",
    "    G = nx.DiGraph()\n",
    "    G.add_edges_from([\n",
    "        (1, 3), (2, 3),\n",
    "        (3, 4), (3, 8),\n",
    "        (4, 6), (5, 6),\n",
    "        (6, 7)\n",
    "    ])\n",
    "    \n",
    "    G.node_pos = {\n",
    "        1: (0, 0), 2: (2, 0), \n",
    "        3: (1, -1), \n",
    "        5: (-2, -2), 4: (0, -2), 8: (2, -2),\n",
    "        6: (-1, -3), 7: (-1, -5)\n",
    "    }\n",
    "\n",
    "    return G\n",
    "\n",
    "\n",
    "def visualize(G, C):\n",
    "    colors = ['gray' if v in C else 'red' for v in G.nodes()]\n",
    "    nx.draw(G, with_labels=True, node_color=colors, pos=G.node_pos, node_size=2000)"
   ]
  },
  {
   "cell_type": "markdown",
   "metadata": {},
   "source": [
    "Zbiór $C$ jest również zwany **zbiorem warunkującym** (ang. *conditioning_set*). Tutaj $C = \\{3\\}$."
   ]
  },
  {
   "cell_type": "code",
   "execution_count": 4,
   "metadata": {},
   "outputs": [
    {
     "output_type": "display_data",
     "data": {
      "text/plain": "<Figure size 432x288 with 1 Axes>",
      "image/svg+xml": "<?xml version=\"1.0\" encoding=\"utf-8\" standalone=\"no\"?>\n<!DOCTYPE svg PUBLIC \"-//W3C//DTD SVG 1.1//EN\"\n  \"http://www.w3.org/Graphics/SVG/1.1/DTD/svg11.dtd\">\n<!-- Created with matplotlib (https://matplotlib.org/) -->\n<svg height=\"302.4pt\" version=\"1.1\" viewBox=\"0 0 446.4 302.4\" width=\"446.4pt\" xmlns=\"http://www.w3.org/2000/svg\" xmlns:xlink=\"http://www.w3.org/1999/xlink\">\n <metadata>\n  <rdf:RDF xmlns:cc=\"http://creativecommons.org/ns#\" xmlns:dc=\"http://purl.org/dc/elements/1.1/\" xmlns:rdf=\"http://www.w3.org/1999/02/22-rdf-syntax-ns#\">\n   <cc:Work>\n    <dc:type rdf:resource=\"http://purl.org/dc/dcmitype/StillImage\"/>\n    <dc:date>2021-04-20T23:18:00.444531</dc:date>\n    <dc:format>image/svg+xml</dc:format>\n    <dc:creator>\n     <cc:Agent>\n      <dc:title>Matplotlib v3.3.4, https://matplotlib.org/</dc:title>\n     </cc:Agent>\n    </dc:creator>\n   </cc:Work>\n  </rdf:RDF>\n </metadata>\n <defs>\n  <style type=\"text/css\">*{stroke-linecap:butt;stroke-linejoin:round;}</style>\n </defs>\n <g id=\"figure_1\">\n  <g id=\"patch_1\">\n   <path d=\"M 0 302.4 \nL 446.4 302.4 \nL 446.4 0 \nL 0 0 \nz\n\" style=\"fill:#ffffff;\"/>\n  </g>\n  <g id=\"axes_1\">\n   <g id=\"patch_2\">\n    <path clip-path=\"url(#p9afdf13335)\" d=\"M 242.929085 42.713914 \nQ 267.828397 55.993547 291.74121 68.747047 \n\" style=\"fill:none;stroke:#000000;stroke-linecap:round;\"/>\n    <path clip-path=\"url(#p9afdf13335)\" d=\"M 289.152974 65.099988 \nL 291.74121 68.747047 \nL 287.270621 68.6294 \nL 289.152974 65.099988 \nz\n\" style=\"stroke:#000000;stroke-linecap:round;\"/>\n   </g>\n   <g id=\"patch_3\">\n    <path clip-path=\"url(#p9afdf13335)\" d=\"M 292.727114 90.31722 \nQ 267.827801 103.596853 243.914989 116.350353 \n\" style=\"fill:none;stroke:#000000;stroke-linecap:round;\"/>\n    <path clip-path=\"url(#p9afdf13335)\" d=\"M 248.385577 116.232706 \nL 243.914989 116.350353 \nL 246.503224 112.703294 \nL 248.385577 116.232706 \nz\n\" style=\"stroke:#000000;stroke-linecap:round;\"/>\n   </g>\n   <g id=\"patch_4\">\n    <path clip-path=\"url(#p9afdf13335)\" d=\"M 332.185283 90.31722 \nQ 357.084596 103.596853 380.997408 116.350353 \n\" style=\"fill:none;stroke:#000000;stroke-linecap:round;\"/>\n    <path clip-path=\"url(#p9afdf13335)\" d=\"M 378.409173 112.703294 \nL 380.997408 116.350353 \nL 376.52682 116.232706 \nL 378.409173 112.703294 \nz\n\" style=\"stroke:#000000;stroke-linecap:round;\"/>\n   </g>\n   <g id=\"patch_5\">\n    <path clip-path=\"url(#p9afdf13335)\" d=\"M 381.983312 42.713914 \nQ 357.083999 55.993547 333.171187 68.747047 \n\" style=\"fill:none;stroke:#000000;stroke-linecap:round;\"/>\n    <path clip-path=\"url(#p9afdf13335)\" d=\"M 337.641775 68.6294 \nL 333.171187 68.747047 \nL 335.759422 65.099988 \nL 337.641775 68.6294 \nz\n\" style=\"stroke:#000000;stroke-linecap:round;\"/>\n   </g>\n   <g id=\"patch_6\">\n    <path clip-path=\"url(#p9afdf13335)\" d=\"M 203.470915 137.920526 \nQ 178.571603 151.200159 154.65879 163.953659 \n\" style=\"fill:none;stroke:#000000;stroke-linecap:round;\"/>\n    <path clip-path=\"url(#p9afdf13335)\" d=\"M 159.129379 163.836012 \nL 154.65879 163.953659 \nL 157.247026 160.3066 \nL 159.129379 163.836012 \nz\n\" style=\"stroke:#000000;stroke-linecap:round;\"/>\n   </g>\n   <g id=\"patch_7\">\n    <path clip-path=\"url(#p9afdf13335)\" d=\"M 133.943802 197.365096 \nQ 133.943802 222.607228 133.943802 246.731326 \n\" style=\"fill:none;stroke:#000000;stroke-linecap:round;\"/>\n    <path clip-path=\"url(#p9afdf13335)\" d=\"M 135.943802 242.731326 \nL 133.943802 246.731326 \nL 131.943802 242.731326 \nL 135.943802 242.731326 \nz\n\" style=\"stroke:#000000;stroke-linecap:round;\"/>\n   </g>\n   <g id=\"patch_8\">\n    <path clip-path=\"url(#p9afdf13335)\" d=\"M 64.416688 137.920526 \nQ 89.316001 151.200159 113.228813 163.953659 \n\" style=\"fill:none;stroke:#000000;stroke-linecap:round;\"/>\n    <path clip-path=\"url(#p9afdf13335)\" d=\"M 110.640578 160.3066 \nL 113.228813 163.953659 \nL 108.758225 163.836012 \nL 110.640578 160.3066 \nz\n\" style=\"stroke:#000000;stroke-linecap:round;\"/>\n   </g>\n   <g id=\"PathCollection_1\">\n    <defs>\n     <path d=\"M 0 22.36068 \nC 5.930122 22.36068 11.618159 20.004617 15.811388 15.811388 \nC 20.004617 11.618159 22.36068 5.930122 22.36068 -0 \nC 22.36068 -5.930122 20.004617 -11.618159 15.811388 -15.811388 \nC 11.618159 -20.004617 5.930122 -22.36068 0 -22.36068 \nC -5.930122 -22.36068 -11.618159 -20.004617 -15.811388 -15.811388 \nC -20.004617 -11.618159 -22.36068 -5.930122 -22.36068 0 \nC -22.36068 5.930122 -20.004617 11.618159 -15.811388 15.811388 \nC -11.618159 20.004617 -5.930122 22.36068 0 22.36068 \nz\n\" id=\"C0_0_17a2d05c04\"/>\n    </defs>\n    <g clip-path=\"url(#p9afdf13335)\">\n     <use style=\"fill:#ff0000;stroke:#ff0000;\" x=\"223.2\" xlink:href=\"#C0_0_17a2d05c04\" y=\"32.191736\"/>\n    </g>\n    <g clip-path=\"url(#p9afdf13335)\">\n     <use style=\"fill:#808080;stroke:#808080;\" x=\"312.456198\" xlink:href=\"#C0_0_17a2d05c04\" y=\"79.795041\"/>\n    </g>\n    <g clip-path=\"url(#p9afdf13335)\">\n     <use style=\"fill:#ff0000;stroke:#ff0000;\" x=\"401.712397\" xlink:href=\"#C0_0_17a2d05c04\" y=\"32.191736\"/>\n    </g>\n    <g clip-path=\"url(#p9afdf13335)\">\n     <use style=\"fill:#ff0000;stroke:#ff0000;\" x=\"223.2\" xlink:href=\"#C0_0_17a2d05c04\" y=\"127.398347\"/>\n    </g>\n    <g clip-path=\"url(#p9afdf13335)\">\n     <use style=\"fill:#ff0000;stroke:#ff0000;\" x=\"401.712397\" xlink:href=\"#C0_0_17a2d05c04\" y=\"127.398347\"/>\n    </g>\n    <g clip-path=\"url(#p9afdf13335)\">\n     <use style=\"fill:#ff0000;stroke:#ff0000;\" x=\"133.943802\" xlink:href=\"#C0_0_17a2d05c04\" y=\"175.001653\"/>\n    </g>\n    <g clip-path=\"url(#p9afdf13335)\">\n     <use style=\"fill:#ff0000;stroke:#ff0000;\" x=\"44.687603\" xlink:href=\"#C0_0_17a2d05c04\" y=\"127.398347\"/>\n    </g>\n    <g clip-path=\"url(#p9afdf13335)\">\n     <use style=\"fill:#ff0000;stroke:#ff0000;\" x=\"133.943802\" xlink:href=\"#C0_0_17a2d05c04\" y=\"270.208264\"/>\n    </g>\n   </g>\n   <g id=\"text_1\">\n    <g clip-path=\"url(#p9afdf13335)\">\n     <!-- 1 -->\n     <g transform=\"translate(219.3825 35.502986)scale(0.12 -0.12)\">\n      <defs>\n       <path d=\"M 12.40625 8.296875 \nL 28.515625 8.296875 \nL 28.515625 63.921875 \nL 10.984375 60.40625 \nL 10.984375 69.390625 \nL 28.421875 72.90625 \nL 38.28125 72.90625 \nL 38.28125 8.296875 \nL 54.390625 8.296875 \nL 54.390625 0 \nL 12.40625 0 \nz\n\" id=\"DejaVuSans-49\"/>\n      </defs>\n      <use xlink:href=\"#DejaVuSans-49\"/>\n     </g>\n    </g>\n   </g>\n   <g id=\"text_2\">\n    <g clip-path=\"url(#p9afdf13335)\">\n     <!-- 3 -->\n     <g transform=\"translate(308.638698 83.106291)scale(0.12 -0.12)\">\n      <defs>\n       <path d=\"M 40.578125 39.3125 \nQ 47.65625 37.796875 51.625 33 \nQ 55.609375 28.21875 55.609375 21.1875 \nQ 55.609375 10.40625 48.1875 4.484375 \nQ 40.765625 -1.421875 27.09375 -1.421875 \nQ 22.515625 -1.421875 17.65625 -0.515625 \nQ 12.796875 0.390625 7.625 2.203125 \nL 7.625 11.71875 \nQ 11.71875 9.328125 16.59375 8.109375 \nQ 21.484375 6.890625 26.8125 6.890625 \nQ 36.078125 6.890625 40.9375 10.546875 \nQ 45.796875 14.203125 45.796875 21.1875 \nQ 45.796875 27.640625 41.28125 31.265625 \nQ 36.765625 34.90625 28.71875 34.90625 \nL 20.21875 34.90625 \nL 20.21875 43.015625 \nL 29.109375 43.015625 \nQ 36.375 43.015625 40.234375 45.921875 \nQ 44.09375 48.828125 44.09375 54.296875 \nQ 44.09375 59.90625 40.109375 62.90625 \nQ 36.140625 65.921875 28.71875 65.921875 \nQ 24.65625 65.921875 20.015625 65.03125 \nQ 15.375 64.15625 9.8125 62.3125 \nL 9.8125 71.09375 \nQ 15.4375 72.65625 20.34375 73.4375 \nQ 25.25 74.21875 29.59375 74.21875 \nQ 40.828125 74.21875 47.359375 69.109375 \nQ 53.90625 64.015625 53.90625 55.328125 \nQ 53.90625 49.265625 50.4375 45.09375 \nQ 46.96875 40.921875 40.578125 39.3125 \nz\n\" id=\"DejaVuSans-51\"/>\n      </defs>\n      <use xlink:href=\"#DejaVuSans-51\"/>\n     </g>\n    </g>\n   </g>\n   <g id=\"text_3\">\n    <g clip-path=\"url(#p9afdf13335)\">\n     <!-- 2 -->\n     <g transform=\"translate(397.894897 35.502986)scale(0.12 -0.12)\">\n      <defs>\n       <path d=\"M 19.1875 8.296875 \nL 53.609375 8.296875 \nL 53.609375 0 \nL 7.328125 0 \nL 7.328125 8.296875 \nQ 12.9375 14.109375 22.625 23.890625 \nQ 32.328125 33.6875 34.8125 36.53125 \nQ 39.546875 41.84375 41.421875 45.53125 \nQ 43.3125 49.21875 43.3125 52.78125 \nQ 43.3125 58.59375 39.234375 62.25 \nQ 35.15625 65.921875 28.609375 65.921875 \nQ 23.96875 65.921875 18.8125 64.3125 \nQ 13.671875 62.703125 7.8125 59.421875 \nL 7.8125 69.390625 \nQ 13.765625 71.78125 18.9375 73 \nQ 24.125 74.21875 28.421875 74.21875 \nQ 39.75 74.21875 46.484375 68.546875 \nQ 53.21875 62.890625 53.21875 53.421875 \nQ 53.21875 48.921875 51.53125 44.890625 \nQ 49.859375 40.875 45.40625 35.40625 \nQ 44.1875 33.984375 37.640625 27.21875 \nQ 31.109375 20.453125 19.1875 8.296875 \nz\n\" id=\"DejaVuSans-50\"/>\n      </defs>\n      <use xlink:href=\"#DejaVuSans-50\"/>\n     </g>\n    </g>\n   </g>\n   <g id=\"text_4\">\n    <g clip-path=\"url(#p9afdf13335)\">\n     <!-- 4 -->\n     <g transform=\"translate(219.3825 130.709597)scale(0.12 -0.12)\">\n      <defs>\n       <path d=\"M 37.796875 64.3125 \nL 12.890625 25.390625 \nL 37.796875 25.390625 \nz\nM 35.203125 72.90625 \nL 47.609375 72.90625 \nL 47.609375 25.390625 \nL 58.015625 25.390625 \nL 58.015625 17.1875 \nL 47.609375 17.1875 \nL 47.609375 0 \nL 37.796875 0 \nL 37.796875 17.1875 \nL 4.890625 17.1875 \nL 4.890625 26.703125 \nz\n\" id=\"DejaVuSans-52\"/>\n      </defs>\n      <use xlink:href=\"#DejaVuSans-52\"/>\n     </g>\n    </g>\n   </g>\n   <g id=\"text_5\">\n    <g clip-path=\"url(#p9afdf13335)\">\n     <!-- 8 -->\n     <g transform=\"translate(397.894897 130.709597)scale(0.12 -0.12)\">\n      <defs>\n       <path d=\"M 31.78125 34.625 \nQ 24.75 34.625 20.71875 30.859375 \nQ 16.703125 27.09375 16.703125 20.515625 \nQ 16.703125 13.921875 20.71875 10.15625 \nQ 24.75 6.390625 31.78125 6.390625 \nQ 38.8125 6.390625 42.859375 10.171875 \nQ 46.921875 13.96875 46.921875 20.515625 \nQ 46.921875 27.09375 42.890625 30.859375 \nQ 38.875 34.625 31.78125 34.625 \nz\nM 21.921875 38.8125 \nQ 15.578125 40.375 12.03125 44.71875 \nQ 8.5 49.078125 8.5 55.328125 \nQ 8.5 64.0625 14.71875 69.140625 \nQ 20.953125 74.21875 31.78125 74.21875 \nQ 42.671875 74.21875 48.875 69.140625 \nQ 55.078125 64.0625 55.078125 55.328125 \nQ 55.078125 49.078125 51.53125 44.71875 \nQ 48 40.375 41.703125 38.8125 \nQ 48.828125 37.15625 52.796875 32.3125 \nQ 56.78125 27.484375 56.78125 20.515625 \nQ 56.78125 9.90625 50.3125 4.234375 \nQ 43.84375 -1.421875 31.78125 -1.421875 \nQ 19.734375 -1.421875 13.25 4.234375 \nQ 6.78125 9.90625 6.78125 20.515625 \nQ 6.78125 27.484375 10.78125 32.3125 \nQ 14.796875 37.15625 21.921875 38.8125 \nz\nM 18.3125 54.390625 \nQ 18.3125 48.734375 21.84375 45.5625 \nQ 25.390625 42.390625 31.78125 42.390625 \nQ 38.140625 42.390625 41.71875 45.5625 \nQ 45.3125 48.734375 45.3125 54.390625 \nQ 45.3125 60.0625 41.71875 63.234375 \nQ 38.140625 66.40625 31.78125 66.40625 \nQ 25.390625 66.40625 21.84375 63.234375 \nQ 18.3125 60.0625 18.3125 54.390625 \nz\n\" id=\"DejaVuSans-56\"/>\n      </defs>\n      <use xlink:href=\"#DejaVuSans-56\"/>\n     </g>\n    </g>\n   </g>\n   <g id=\"text_6\">\n    <g clip-path=\"url(#p9afdf13335)\">\n     <!-- 6 -->\n     <g transform=\"translate(130.126302 178.312903)scale(0.12 -0.12)\">\n      <defs>\n       <path d=\"M 33.015625 40.375 \nQ 26.375 40.375 22.484375 35.828125 \nQ 18.609375 31.296875 18.609375 23.390625 \nQ 18.609375 15.53125 22.484375 10.953125 \nQ 26.375 6.390625 33.015625 6.390625 \nQ 39.65625 6.390625 43.53125 10.953125 \nQ 47.40625 15.53125 47.40625 23.390625 \nQ 47.40625 31.296875 43.53125 35.828125 \nQ 39.65625 40.375 33.015625 40.375 \nz\nM 52.59375 71.296875 \nL 52.59375 62.3125 \nQ 48.875 64.0625 45.09375 64.984375 \nQ 41.3125 65.921875 37.59375 65.921875 \nQ 27.828125 65.921875 22.671875 59.328125 \nQ 17.53125 52.734375 16.796875 39.40625 \nQ 19.671875 43.65625 24.015625 45.921875 \nQ 28.375 48.1875 33.59375 48.1875 \nQ 44.578125 48.1875 50.953125 41.515625 \nQ 57.328125 34.859375 57.328125 23.390625 \nQ 57.328125 12.15625 50.6875 5.359375 \nQ 44.046875 -1.421875 33.015625 -1.421875 \nQ 20.359375 -1.421875 13.671875 8.265625 \nQ 6.984375 17.96875 6.984375 36.375 \nQ 6.984375 53.65625 15.1875 63.9375 \nQ 23.390625 74.21875 37.203125 74.21875 \nQ 40.921875 74.21875 44.703125 73.484375 \nQ 48.484375 72.75 52.59375 71.296875 \nz\n\" id=\"DejaVuSans-54\"/>\n      </defs>\n      <use xlink:href=\"#DejaVuSans-54\"/>\n     </g>\n    </g>\n   </g>\n   <g id=\"text_7\">\n    <g clip-path=\"url(#p9afdf13335)\">\n     <!-- 5 -->\n     <g transform=\"translate(40.870103 130.709597)scale(0.12 -0.12)\">\n      <defs>\n       <path d=\"M 10.796875 72.90625 \nL 49.515625 72.90625 \nL 49.515625 64.59375 \nL 19.828125 64.59375 \nL 19.828125 46.734375 \nQ 21.96875 47.46875 24.109375 47.828125 \nQ 26.265625 48.1875 28.421875 48.1875 \nQ 40.625 48.1875 47.75 41.5 \nQ 54.890625 34.8125 54.890625 23.390625 \nQ 54.890625 11.625 47.5625 5.09375 \nQ 40.234375 -1.421875 26.90625 -1.421875 \nQ 22.3125 -1.421875 17.546875 -0.640625 \nQ 12.796875 0.140625 7.71875 1.703125 \nL 7.71875 11.625 \nQ 12.109375 9.234375 16.796875 8.0625 \nQ 21.484375 6.890625 26.703125 6.890625 \nQ 35.15625 6.890625 40.078125 11.328125 \nQ 45.015625 15.765625 45.015625 23.390625 \nQ 45.015625 31 40.078125 35.4375 \nQ 35.15625 39.890625 26.703125 39.890625 \nQ 22.75 39.890625 18.8125 39.015625 \nQ 14.890625 38.140625 10.796875 36.28125 \nz\n\" id=\"DejaVuSans-53\"/>\n      </defs>\n      <use xlink:href=\"#DejaVuSans-53\"/>\n     </g>\n    </g>\n   </g>\n   <g id=\"text_8\">\n    <g clip-path=\"url(#p9afdf13335)\">\n     <!-- 7 -->\n     <g transform=\"translate(130.126302 273.519514)scale(0.12 -0.12)\">\n      <defs>\n       <path d=\"M 8.203125 72.90625 \nL 55.078125 72.90625 \nL 55.078125 68.703125 \nL 28.609375 0 \nL 18.3125 0 \nL 43.21875 64.59375 \nL 8.203125 64.59375 \nz\n\" id=\"DejaVuSans-55\"/>\n      </defs>\n      <use xlink:href=\"#DejaVuSans-55\"/>\n     </g>\n    </g>\n   </g>\n  </g>\n </g>\n <defs>\n  <clipPath id=\"p9afdf13335\">\n   <rect height=\"288\" width=\"432\" x=\"7.2\" y=\"7.2\"/>\n  </clipPath>\n </defs>\n</svg>\n",
      "image/png": "[encoded data removed]"
     },
     "metadata": {}
    }
   ],
   "source": [
    "graph = get_graph()\n",
    "conditioning_set = {3}\n",
    "\n",
    "visualize(G=graph, C=conditioning_set)"
   ]
  },
  {
   "cell_type": "markdown",
   "metadata": {},
   "source": [
    "Poszukajmy zależności **head-tail** - przykłady:\n",
    "- **\"1 -> 3 -> 4\"**, widzimy, że $3 \\in C$, zatem \"1\" oraz \"4\" są d-separowalne\n",
    "- taka sama sytuacja jest w przypadku **\"2 -> 3 -> 8\"**, **\"1 -> 3 -> 8\"** oraz **\"2 -> 3 -> 4\"**\n",
    "- dla ścieżki **\"4 -> 6 -> 7\"** widzimy, że $6 \\notin C$ zatem \"4\" i \"7\" nie są d-separowalne\n",
    "- analogiczny brak d-separowalności widzimy dla ścieżki: **\"5 -> 6 -> 7\"**\n",
    "\n",
    "Dla relacji **tail-tail** w tym modelu (grafie) mamy tylko jeden przykład: **\"4 <- 3 -> 8\"**. Skoro $3 \\in C$ to zmienne \"4\" oraz \"8\" są d-separowalne.\n",
    "\n",
    "W przypadku relacji **head-head** mamy tylko dwie takie trójki:\n",
    "- **\"1 -> 3 <- 2\"** - brak d-separowalności\n",
    "- **\"5 -> 6 <- 4\"** - \"5\" oraz \"4\" są d-separowalne, ponieważ $6 \\notin C$ oraz żaden potomek (tutaj: \"7\") również nie należy do $C$"
   ]
  },
  {
   "cell_type": "markdown",
   "metadata": {},
   "source": [
    "# Uwaga\n",
    "Dotychczas rozważaliśmy tylko trójki zmiennych/wierzchołków (tzn. ścieżki o długości 3), jednak możemy sprawdzać d-separowalność między bardziej oddalonymi wierzchołkami. Musimy wtedy sprawdzić, czy **każda ścieżka** między nimi zawiera **zablokowaną trójkę** (korzystając z reguł head-head, head-tail lub tail-tail)."
   ]
  },
  {
   "cell_type": "markdown",
   "metadata": {},
   "source": [
    "# Zadania"
   ]
  },
  {
   "cell_type": "markdown",
   "metadata": {},
   "source": [
    "## Zadanie 1 (0.75 + 0.25 pkt)\n",
    "\n",
    "Zaimplementuj funkcję **is_blocking_triple**, która dla dowolnych 3 wierzchołków (zmiennych losowych) sprawdzi czy tworzą ścieżkę blokującą.\n",
    "\n",
    "Podpowiedzi: \n",
    "- użyj metody `has_edge()` klasy `nx.Graph`, aby sprawdzić czy graf posiada połączenie (krawędź) między węzłami\n",
    "- użyj funkcji `nx.descendants()`, aby wyznaczyć potomków dane wierzchołka"
   ]
  },
  {
   "cell_type": "code",
   "execution_count": 17,
   "metadata": {
    "deletable": false,
    "nbgrader": {
     "cell_type": "code",
     "checksum": "4756b6a82258da05d7e8d4d955468e3c",
     "grade": true,
     "grade_id": "is-blocking-triple",
     "locked": false,
     "points": 0.75,
     "schema_version": 3,
     "solution": true,
     "task": false
    }
   },
   "outputs": [],
   "source": [
    "Node = int\n",
    "\n",
    "\n",
    "def is_blocking_triple(\n",
    "    x: Node, v: Node, y: Node, \n",
    "    G: nx.Graph, C: set,\n",
    ") -> bool:\n",
    "    # TU WPISZ KOD\n",
    "    # raise NotImplementedError()\n",
    "\n",
    "    def check_edge(G, u, v):\n",
    "        return G.has_edge(u=u, v=v)\n",
    "\n",
    "    # head-tail\n",
    "    def check_causal_chain(G, C, x, v, y):\n",
    "        inactive_triple = False\n",
    "        if (x not in C) and (v in C) and (y not in C):\n",
    "        # if (v in C):\n",
    "            inactive_triple = True\n",
    "        return inactive_triple\n",
    "    \n",
    "    # tail-tail: same as check_causal_chain (head-tail)\n",
    "    def check_common_cause(G, C, x, v, y):\n",
    "        inactive_triple = False\n",
    "        if (x not in C) and (v in C) and (y not in C):\n",
    "            inactive_triple = True\n",
    "        return inactive_triple\n",
    "    \n",
    "    # head-head\n",
    "    def check_common_effect(G, C, x, v, y):\n",
    "        inactive_triple = False\n",
    "        if (x not in C) and (v not in C) and (y not in C) \\\n",
    "            and (not any(node in nx.descendants(G=G, source=v) for node in C)):\n",
    "            inactive_triple = True\n",
    "        return inactive_triple\n",
    "    \n",
    "    \n",
    "    inactive_triple = False\n",
    "\n",
    "    if (check_edge(G, x, v) and check_edge(G, v, y)) \\\n",
    "        or (check_edge(G, y, v) and check_edge(G, v, x)):  # head-tail\n",
    "        inactive_triple = check_causal_chain(G, C, x, v, y)\n",
    "    elif check_edge(G, v, x) and check_edge(G, v, y):  # tail-tail\n",
    "        inactive_triple = check_common_cause(G, C, x, v, y)\n",
    "    elif check_edge(G, x, v) and check_edge(G, y, v):  # head-head\n",
    "        inactive_triple = check_common_effect(G, C, x, v, y)\n",
    "\n",
    "    return inactive_triple"
   ]
  },
  {
   "cell_type": "markdown",
   "metadata": {},
   "source": [
    "Sprawdźmy czy funkcja działa dla powyższego przykładu:"
   ]
  },
  {
   "cell_type": "code",
   "execution_count": 18,
   "metadata": {
    "deletable": false,
    "editable": false,
    "nbgrader": {
     "cell_type": "code",
     "checksum": "1f34eec8f20bae4994bf23b2174814a9",
     "grade": true,
     "grade_id": "is-blocking-triple-tests",
     "locked": true,
     "points": 0.25,
     "schema_version": 3,
     "solution": false,
     "task": false
    }
   },
   "outputs": [],
   "source": [
    "assert is_blocking_triple(x=1, v=3, y=4, G=graph, C=conditioning_set)\n",
    "\n",
    "expected_blocked_triples = [\n",
    "    # Head-tail\n",
    "    (1, 3, 4),\n",
    "    (1, 3, 8),\n",
    "    (2, 3, 4),\n",
    "    (2, 3, 8),\n",
    "    \n",
    "    # Tail-tail\n",
    "    (4, 3, 8),\n",
    "    \n",
    "    # Head-head\n",
    "    (5, 6, 4),\n",
    "]\n",
    "\n",
    "assert all(\n",
    "    is_blocking_triple(\n",
    "        x=t[0], v=t[1], y=t[2], \n",
    "        G=graph, C=conditioning_set,\n",
    "    ) \n",
    "    for x, v, y in expected_blocked_triples\n",
    "    for t in ((x, v, y), (y, v, x))\n",
    ")\n",
    "\n",
    "expected_non_blocked_triples = [\n",
    "    # Head-tail\n",
    "    (4, 6, 7),\n",
    "    (5, 6, 7),\n",
    "    \n",
    "    # Head-head\n",
    "    (1, 3, 2),\n",
    "]\n",
    "\n",
    "assert all(\n",
    "    not is_blocking_triple(\n",
    "        x=t[0], v=t[1], y=t[2], \n",
    "        G=graph, C=conditioning_set,\n",
    "    ) \n",
    "    for x, v, y in expected_non_blocked_triples\n",
    "    for t in ((x, v, y), (y, v, x))\n",
    ")"
   ]
  },
  {
   "cell_type": "markdown",
   "metadata": {},
   "source": [
    "Zaimplementujmy funkcję, która dla podanego grafu $G$ oraz zbioru warunkującego $C$ wyznaczy wszystkie zablokowane trójki:"
   ]
  },
  {
   "cell_type": "code",
   "execution_count": 19,
   "metadata": {},
   "outputs": [],
   "source": [
    "def get_all_blocking_triples(\n",
    "    G: nx.Graph, \n",
    "    C: set,\n",
    ") -> List[Tuple[Node, Node, Node]]:\n",
    "    blocking_triples = []\n",
    "    \n",
    "    for x, v, y in sorted(itertools.permutations(G.nodes(), r=3)):\n",
    "        if is_blocking_triple(x=x, v=v, y=y, G=G, C=C):\n",
    "            blocking_triples.append((x, v, y))\n",
    "            \n",
    "    return blocking_triples"
   ]
  },
  {
   "cell_type": "code",
   "execution_count": 20,
   "metadata": {},
   "outputs": [
    {
     "output_type": "stream",
     "name": "stdout",
     "text": [
      "Number of blocking triples: 12\n"
     ]
    },
    {
     "output_type": "execute_result",
     "data": {
      "text/plain": [
       "[(1, 3, 4),\n",
       " (1, 3, 8),\n",
       " (2, 3, 4),\n",
       " (2, 3, 8),\n",
       " (4, 3, 1),\n",
       " (4, 3, 2),\n",
       " (4, 3, 8),\n",
       " (4, 6, 5),\n",
       " (5, 6, 4),\n",
       " (8, 3, 1),\n",
       " (8, 3, 2),\n",
       " (8, 3, 4)]"
      ]
     },
     "metadata": {},
     "execution_count": 20
    }
   ],
   "source": [
    "blocking_triples = get_all_blocking_triples(G=graph, C=conditioning_set)\n",
    "\n",
    "print(\"Number of blocking triples:\", len(blocking_triples))\n",
    "\n",
    "blocking_triples"
   ]
  },
  {
   "cell_type": "markdown",
   "metadata": {},
   "source": [
    "## Zadanie 2 (0.75 + 0.25 pkt)\n",
    "\n",
    "Zaimplementuj funkcję **is_d_separable**, która dla dowolnych dwóch wierzchołków $x$ oraz $y$ sprawdzi czy są one d-separowalne. Odległość między tymi wierzchołkami w grafie może być większa niż 3, musimy sprawdzić czy wszystkie ścieżki między tymi wierzchołkami są zablokowane.\n",
    "\n",
    "**Uwaga** Nie rozważamy d-separowalności w przypadku kiedy (zwróć wtedy `\"N/A\"`):\n",
    "- wierzchołki są bezpośrednio połączone\n",
    "- jeden z wierzchołków jest obserwowany\n",
    "\n",
    "Wykorzystaj podaną funkcję `get_all_paths()` do wyznaczenia wszystkich ścieżek między wierzchołkami."
   ]
  },
  {
   "cell_type": "code",
   "execution_count": 21,
   "metadata": {},
   "outputs": [],
   "source": [
    "def get_all_paths(G: nx.Graph, x: Node, y: Node) -> List[List[Node]]:\n",
    "    return list(nx.all_simple_paths(G=nx.Graph(G), source=x, target=y))"
   ]
  },
  {
   "cell_type": "code",
   "execution_count": 22,
   "metadata": {},
   "outputs": [
    {
     "output_type": "execute_result",
     "data": {
      "text/plain": [
       "[[3, 4, 6, 7]]"
      ]
     },
     "metadata": {},
     "execution_count": 22
    }
   ],
   "source": [
    "get_all_paths(G=graph, x=3, y=7)"
   ]
  },
  {
   "cell_type": "code",
   "execution_count": 23,
   "metadata": {
    "deletable": false,
    "nbgrader": {
     "cell_type": "code",
     "checksum": "a2e5ee3c896bd96b87a007fc48c1c013",
     "grade": true,
     "grade_id": "is-d-separable",
     "locked": false,
     "points": 0.75,
     "schema_version": 3,
     "solution": true,
     "task": false
    }
   },
   "outputs": [],
   "source": [
    "def is_d_separable(\n",
    "    x: Node, y: Node, \n",
    "    G: nx.Graph, C: set, \n",
    "    blocking_triples: Optional[List[List[Node]]] = None,\n",
    ") -> Union[str, bool]:\n",
    "    \"\"\"Checks if `x` and `y` are d-separable given C.\n",
    "    \n",
    "    If d-separation is not applicable return 'N/A',\n",
    "    otherwise return True/False, denoting whether \n",
    "    variables are d-separable or not.\n",
    "    \"\"\"\n",
    "    # TU WPISZ KOD\n",
    "    # raise NotImplementedError()\n",
    "        \n",
    "    paths = get_all_paths(G=G, x=x, y=y)\n",
    "\n",
    "    paths_lens = [len(path) for path in paths]\n",
    "    if (x in C) or (y in C) \\\n",
    "        or (2 in paths_lens) or (not paths_lens):\n",
    "        return 'N/A'\n",
    "    \n",
    "    n_inactive_paths = 0\n",
    "    for path in paths:\n",
    "        if len(path) > 2:  # should always pass\n",
    "            inactive_path = False\n",
    "            for first, second, third in zip(path, path[1:], path[2:]):\n",
    "                # print(first, second, third)\n",
    "                if is_blocking_triple(x=first, v=second, y=third, G=G, C=C):\n",
    "                    inactive_path = True\n",
    "            if inactive_path:\n",
    "                n_inactive_paths += 1\n",
    "        else:\n",
    "            print(f'Why this path?: {path}')\n",
    "    \n",
    "    is_d_sep = True if n_inactive_paths == len(paths) else False\n",
    "\n",
    "    return is_d_sep"
   ]
  },
  {
   "cell_type": "markdown",
   "metadata": {},
   "source": [
    "Wyznaczmy d-separowalność dla wszystkich par wierzchołków:"
   ]
  },
  {
   "cell_type": "code",
   "execution_count": 24,
   "metadata": {},
   "outputs": [],
   "source": [
    "def check_d_separability_for_all_node_pairs(G, C, d_sep_fn):\n",
    "    records = []\n",
    "\n",
    "    for x, y in sorted(itertools.permutations(G.nodes(), r=2)):\n",
    "        records.append({\n",
    "            'x': x, \n",
    "            'y': y, \n",
    "            'd_sep': d_sep_fn(x=x, y=y, G=G, C=C),\n",
    "        })\n",
    "        \n",
    "    return pd.DataFrame.from_records(records)\n",
    "\n",
    "\n",
    "df = check_d_separability_for_all_node_pairs(\n",
    "    G=graph,\n",
    "    C=conditioning_set,\n",
    "    d_sep_fn=is_d_separable,\n",
    ")"
   ]
  },
  {
   "cell_type": "markdown",
   "metadata": {},
   "source": [
    "Pary d-separowalne:"
   ]
  },
  {
   "cell_type": "code",
   "execution_count": 25,
   "metadata": {},
   "outputs": [
    {
     "output_type": "execute_result",
     "data": {
      "text/plain": [
       "    x  y d_sep\n",
       "2   1  4  True\n",
       "3   1  5  True\n",
       "4   1  6  True\n",
       "5   1  7  True\n",
       "6   1  8  True\n",
       "9   2  4  True\n",
       "10  2  5  True\n",
       "11  2  6  True\n",
       "12  2  7  True\n",
       "13  2  8  True\n",
       "21  4  1  True\n",
       "22  4  2  True\n",
       "24  4  5  True\n",
       "27  4  8  True\n",
       "28  5  1  True\n",
       "29  5  2  True\n",
       "31  5  4  True\n",
       "34  5  8  True\n",
       "35  6  1  True\n",
       "36  6  2  True\n",
       "41  6  8  True\n",
       "42  7  1  True\n",
       "43  7  2  True\n",
       "48  7  8  True\n",
       "49  8  1  True\n",
       "50  8  2  True\n",
       "52  8  4  True\n",
       "53  8  5  True\n",
       "54  8  6  True\n",
       "55  8  7  True"
      ],
      "text/html": "<div>\n<style scoped>\n    .dataframe tbody tr th:only-of-type {\n        vertical-align: middle;\n    }\n\n    .dataframe tbody tr th {\n        vertical-align: top;\n    }\n\n    .dataframe thead th {\n        text-align: right;\n    }\n</style>\n<table border=\"1\" class=\"dataframe\">\n  <thead>\n    <tr style=\"text-align: right;\">\n      <th></th>\n      <th>x</th>\n      <th>y</th>\n      <th>d_sep</th>\n    </tr>\n  </thead>\n  <tbody>\n    <tr>\n      <th>2</th>\n      <td>1</td>\n      <td>4</td>\n      <td>True</td>\n    </tr>\n    <tr>\n      <th>3</th>\n      <td>1</td>\n      <td>5</td>\n      <td>True</td>\n    </tr>\n    <tr>\n      <th>4</th>\n      <td>1</td>\n      <td>6</td>\n      <td>True</td>\n    </tr>\n    <tr>\n      <th>5</th>\n      <td>1</td>\n      <td>7</td>\n      <td>True</td>\n    </tr>\n    <tr>\n      <th>6</th>\n      <td>1</td>\n      <td>8</td>\n      <td>True</td>\n    </tr>\n    <tr>\n      <th>9</th>\n      <td>2</td>\n      <td>4</td>\n      <td>True</td>\n    </tr>\n    <tr>\n      <th>10</th>\n      <td>2</td>\n      <td>5</td>\n      <td>True</td>\n    </tr>\n    <tr>\n      <th>11</th>\n      <td>2</td>\n      <td>6</td>\n      <td>True</td>\n    </tr>\n    <tr>\n      <th>12</th>\n      <td>2</td>\n      <td>7</td>\n      <td>True</td>\n    </tr>\n    <tr>\n      <th>13</th>\n      <td>2</td>\n      <td>8</td>\n      <td>True</td>\n    </tr>\n    <tr>\n      <th>21</th>\n      <td>4</td>\n      <td>1</td>\n      <td>True</td>\n    </tr>\n    <tr>\n      <th>22</th>\n      <td>4</td>\n      <td>2</td>\n      <td>True</td>\n    </tr>\n    <tr>\n      <th>24</th>\n      <td>4</td>\n      <td>5</td>\n      <td>True</td>\n    </tr>\n    <tr>\n      <th>27</th>\n      <td>4</td>\n      <td>8</td>\n      <td>True</td>\n    </tr>\n    <tr>\n      <th>28</th>\n      <td>5</td>\n      <td>1</td>\n      <td>True</td>\n    </tr>\n    <tr>\n      <th>29</th>\n      <td>5</td>\n      <td>2</td>\n      <td>True</td>\n    </tr>\n    <tr>\n      <th>31</th>\n      <td>5</td>\n      <td>4</td>\n      <td>True</td>\n    </tr>\n    <tr>\n      <th>34</th>\n      <td>5</td>\n      <td>8</td>\n      <td>True</td>\n    </tr>\n    <tr>\n      <th>35</th>\n      <td>6</td>\n      <td>1</td>\n      <td>True</td>\n    </tr>\n    <tr>\n      <th>36</th>\n      <td>6</td>\n      <td>2</td>\n      <td>True</td>\n    </tr>\n    <tr>\n      <th>41</th>\n      <td>6</td>\n      <td>8</td>\n      <td>True</td>\n    </tr>\n    <tr>\n      <th>42</th>\n      <td>7</td>\n      <td>1</td>\n      <td>True</td>\n    </tr>\n    <tr>\n      <th>43</th>\n      <td>7</td>\n      <td>2</td>\n      <td>True</td>\n    </tr>\n    <tr>\n      <th>48</th>\n      <td>7</td>\n      <td>8</td>\n      <td>True</td>\n    </tr>\n    <tr>\n      <th>49</th>\n      <td>8</td>\n      <td>1</td>\n      <td>True</td>\n    </tr>\n    <tr>\n      <th>50</th>\n      <td>8</td>\n      <td>2</td>\n      <td>True</td>\n    </tr>\n    <tr>\n      <th>52</th>\n      <td>8</td>\n      <td>4</td>\n      <td>True</td>\n    </tr>\n    <tr>\n      <th>53</th>\n      <td>8</td>\n      <td>5</td>\n      <td>True</td>\n    </tr>\n    <tr>\n      <th>54</th>\n      <td>8</td>\n      <td>6</td>\n      <td>True</td>\n    </tr>\n    <tr>\n      <th>55</th>\n      <td>8</td>\n      <td>7</td>\n      <td>True</td>\n    </tr>\n  </tbody>\n</table>\n</div>"
     },
     "metadata": {},
     "execution_count": 25
    }
   ],
   "source": [
    "df[df.d_sep == True]"
   ]
  },
  {
   "cell_type": "markdown",
   "metadata": {},
   "source": [
    "Pary nie d-separowalne:"
   ]
  },
  {
   "cell_type": "code",
   "execution_count": 26,
   "metadata": {},
   "outputs": [
    {
     "output_type": "execute_result",
     "data": {
      "text/plain": [
       "    x  y  d_sep\n",
       "0   1  2  False\n",
       "7   2  1  False\n",
       "26  4  7  False\n",
       "33  5  7  False\n",
       "45  7  4  False\n",
       "46  7  5  False"
      ],
      "text/html": "<div>\n<style scoped>\n    .dataframe tbody tr th:only-of-type {\n        vertical-align: middle;\n    }\n\n    .dataframe tbody tr th {\n        vertical-align: top;\n    }\n\n    .dataframe thead th {\n        text-align: right;\n    }\n</style>\n<table border=\"1\" class=\"dataframe\">\n  <thead>\n    <tr style=\"text-align: right;\">\n      <th></th>\n      <th>x</th>\n      <th>y</th>\n      <th>d_sep</th>\n    </tr>\n  </thead>\n  <tbody>\n    <tr>\n      <th>0</th>\n      <td>1</td>\n      <td>2</td>\n      <td>False</td>\n    </tr>\n    <tr>\n      <th>7</th>\n      <td>2</td>\n      <td>1</td>\n      <td>False</td>\n    </tr>\n    <tr>\n      <th>26</th>\n      <td>4</td>\n      <td>7</td>\n      <td>False</td>\n    </tr>\n    <tr>\n      <th>33</th>\n      <td>5</td>\n      <td>7</td>\n      <td>False</td>\n    </tr>\n    <tr>\n      <th>45</th>\n      <td>7</td>\n      <td>4</td>\n      <td>False</td>\n    </tr>\n    <tr>\n      <th>46</th>\n      <td>7</td>\n      <td>5</td>\n      <td>False</td>\n    </tr>\n  </tbody>\n</table>\n</div>"
     },
     "metadata": {},
     "execution_count": 26
    }
   ],
   "source": [
    "df[df.d_sep == False]"
   ]
  },
  {
   "cell_type": "markdown",
   "metadata": {},
   "source": [
    "Sytuacje nieokreślone:"
   ]
  },
  {
   "cell_type": "code",
   "execution_count": 27,
   "metadata": {},
   "outputs": [
    {
     "output_type": "execute_result",
     "data": {
      "text/plain": [
       "    x  y d_sep\n",
       "1   1  3   N/A\n",
       "8   2  3   N/A\n",
       "14  3  1   N/A\n",
       "15  3  2   N/A\n",
       "16  3  4   N/A\n",
       "17  3  5   N/A\n",
       "18  3  6   N/A\n",
       "19  3  7   N/A\n",
       "20  3  8   N/A\n",
       "23  4  3   N/A\n",
       "25  4  6   N/A\n",
       "30  5  3   N/A\n",
       "32  5  6   N/A\n",
       "37  6  3   N/A\n",
       "38  6  4   N/A\n",
       "39  6  5   N/A\n",
       "40  6  7   N/A\n",
       "44  7  3   N/A\n",
       "47  7  6   N/A\n",
       "51  8  3   N/A"
      ],
      "text/html": "<div>\n<style scoped>\n    .dataframe tbody tr th:only-of-type {\n        vertical-align: middle;\n    }\n\n    .dataframe tbody tr th {\n        vertical-align: top;\n    }\n\n    .dataframe thead th {\n        text-align: right;\n    }\n</style>\n<table border=\"1\" class=\"dataframe\">\n  <thead>\n    <tr style=\"text-align: right;\">\n      <th></th>\n      <th>x</th>\n      <th>y</th>\n      <th>d_sep</th>\n    </tr>\n  </thead>\n  <tbody>\n    <tr>\n      <th>1</th>\n      <td>1</td>\n      <td>3</td>\n      <td>N/A</td>\n    </tr>\n    <tr>\n      <th>8</th>\n      <td>2</td>\n      <td>3</td>\n      <td>N/A</td>\n    </tr>\n    <tr>\n      <th>14</th>\n      <td>3</td>\n      <td>1</td>\n      <td>N/A</td>\n    </tr>\n    <tr>\n      <th>15</th>\n      <td>3</td>\n      <td>2</td>\n      <td>N/A</td>\n    </tr>\n    <tr>\n      <th>16</th>\n      <td>3</td>\n      <td>4</td>\n      <td>N/A</td>\n    </tr>\n    <tr>\n      <th>17</th>\n      <td>3</td>\n      <td>5</td>\n      <td>N/A</td>\n    </tr>\n    <tr>\n      <th>18</th>\n      <td>3</td>\n      <td>6</td>\n      <td>N/A</td>\n    </tr>\n    <tr>\n      <th>19</th>\n      <td>3</td>\n      <td>7</td>\n      <td>N/A</td>\n    </tr>\n    <tr>\n      <th>20</th>\n      <td>3</td>\n      <td>8</td>\n      <td>N/A</td>\n    </tr>\n    <tr>\n      <th>23</th>\n      <td>4</td>\n      <td>3</td>\n      <td>N/A</td>\n    </tr>\n    <tr>\n      <th>25</th>\n      <td>4</td>\n      <td>6</td>\n      <td>N/A</td>\n    </tr>\n    <tr>\n      <th>30</th>\n      <td>5</td>\n      <td>3</td>\n      <td>N/A</td>\n    </tr>\n    <tr>\n      <th>32</th>\n      <td>5</td>\n      <td>6</td>\n      <td>N/A</td>\n    </tr>\n    <tr>\n      <th>37</th>\n      <td>6</td>\n      <td>3</td>\n      <td>N/A</td>\n    </tr>\n    <tr>\n      <th>38</th>\n      <td>6</td>\n      <td>4</td>\n      <td>N/A</td>\n    </tr>\n    <tr>\n      <th>39</th>\n      <td>6</td>\n      <td>5</td>\n      <td>N/A</td>\n    </tr>\n    <tr>\n      <th>40</th>\n      <td>6</td>\n      <td>7</td>\n      <td>N/A</td>\n    </tr>\n    <tr>\n      <th>44</th>\n      <td>7</td>\n      <td>3</td>\n      <td>N/A</td>\n    </tr>\n    <tr>\n      <th>47</th>\n      <td>7</td>\n      <td>6</td>\n      <td>N/A</td>\n    </tr>\n    <tr>\n      <th>51</th>\n      <td>8</td>\n      <td>3</td>\n      <td>N/A</td>\n    </tr>\n  </tbody>\n</table>\n</div>"
     },
     "metadata": {},
     "execution_count": 27
    }
   ],
   "source": [
    "df[df.d_sep == 'N/A']"
   ]
  },
  {
   "cell_type": "markdown",
   "metadata": {},
   "source": [
    "## Testy automatyczne"
   ]
  },
  {
   "cell_type": "code",
   "execution_count": 28,
   "metadata": {
    "deletable": false,
    "editable": false,
    "nbgrader": {
     "cell_type": "code",
     "checksum": "a9aed4aab626fa1980a4142c1dcda534",
     "grade": true,
     "grade_id": "is-d-separable-tests",
     "locked": true,
     "points": 0.25,
     "schema_version": 3,
     "solution": false,
     "task": false
    }
   },
   "outputs": [
    {
     "output_type": "stream",
     "name": "stdout",
     "text": [
      "No errors found! Passed\nNo errors found! Passed\nNo errors found! Passed\nNo errors found! Passed\n"
     ]
    }
   ],
   "source": [
    "def check(graph, conditioning_set, d_sep_fn, expected_df_path):\n",
    "    actual_df = check_d_separability_for_all_node_pairs(\n",
    "        G=graph,\n",
    "        C=conditioning_set,\n",
    "        d_sep_fn=d_sep_fn,\n",
    "    )\n",
    "    \n",
    "    with open(expected_df_path, 'rb') as fin:\n",
    "        expected_df = pickle.load(fin)\n",
    "    \n",
    "    num_errors = 0\n",
    "        \n",
    "    for (_, exp_row), act_d_sep in zip(expected_df.iterrows(), actual_df.d_sep):\n",
    "        if exp_row.d_sep != act_d_sep:\n",
    "            print(\n",
    "                f'* Error for ({exp_row.v1}, {exp_row.v2})\\n'\n",
    "                f'\\tExpected: {exp_row.d_sep}\\n'\n",
    "                f'\\tGot: {act_d_sep}'\n",
    "            )\n",
    "            num_errors += 1\n",
    "            \n",
    "    if num_errors > 0:\n",
    "        total_rows = expected_df.shape[0]\n",
    "        error_rate = np.round(num_errors / total_rows * 100, 2)\n",
    "        print(f'Error rate: {num_errors}/{total_rows} -> {error_rate}%')\n",
    "    else:\n",
    "        print('No errors found! Passed')\n",
    "\n",
    "\n",
    "check(\n",
    "    graph=get_graph(),\n",
    "    conditioning_set={7},\n",
    "    d_sep_fn=is_d_separable,\n",
    "    expected_df_path='data/dsep/first-c7.pkl',\n",
    ")\n",
    "\n",
    "check(\n",
    "    graph=get_graph(),\n",
    "    conditioning_set={3, 7},\n",
    "    d_sep_fn=is_d_separable,\n",
    "    expected_df_path='data/dsep/first-c37.pkl',\n",
    ")\n",
    "\n",
    "second_graph = graph.copy()\n",
    "second_graph.add_edge(1, 5)\n",
    "\n",
    "check(\n",
    "    graph=second_graph,\n",
    "    conditioning_set={6},\n",
    "    d_sep_fn=is_d_separable,\n",
    "    expected_df_path='data/dsep/second-c6.pkl',\n",
    ")\n",
    "\n",
    "second_graph = graph.copy()\n",
    "second_graph.add_edge(1, 5)\n",
    "\n",
    "check(\n",
    "    graph=second_graph,\n",
    "    conditioning_set={3, 6},\n",
    "    d_sep_fn=is_d_separable,\n",
    "    expected_df_path='data/dsep/second-c36.pkl',\n",
    ")"
   ]
  },
  {
   "cell_type": "code",
   "execution_count": null,
   "metadata": {
    "deletable": false,
    "nbgrader": {
     "cell_type": "code",
     "checksum": "0407a71861872c17149235a61abe6d76",
     "grade": true,
     "grade_id": "omit",
     "locked": false,
     "points": 0,
     "schema_version": 3,
     "solution": true,
     "task": false
    }
   },
   "outputs": [],
   "source": [
    "# TU WPISZ KOD\n",
    "raise NotImplementedError()"
   ]
  }
 ],
 "metadata": {
  "kernelspec": {
   "display_name": "Python 3.8.2 64-bit ('puma_venv': venv)",
   "language": "python",
   "name": "python382jvsc74a57bd0f0545359fd8874728fa15534fbfd9d83780463b5d27770e3043345b26761f8c1"
  },
  "language_info": {
   "codemirror_mode": {
    "name": "ipython",
    "version": 3
   },
   "file_extension": ".py",
   "mimetype": "text/x-python",
   "name": "python",
   "nbconvert_exporter": "python",
   "pygments_lexer": "ipython3",
   "version": "3.8.2"
  }
 },
 "nbformat": 4,
 "nbformat_minor": 4
}