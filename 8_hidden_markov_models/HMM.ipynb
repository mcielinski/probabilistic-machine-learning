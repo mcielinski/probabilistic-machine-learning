{
 "cells": [
  {
   "cell_type": "markdown",
   "metadata": {},
   "source": [
    "Przed oddaniem zadania upewnij się, że wszystko działa poprawnie.\n",
    "**Uruchom ponownie kernel** (z paska menu: Kernel$\\rightarrow$Restart) a następnie\n",
    "**wykonaj wszystkie komórki** (z paska menu: Cell$\\rightarrow$Run All).\n",
    "\n",
    "Upewnij się, że wypełniłeś wszystkie pola `TU WPISZ KOD` lub `TU WPISZ ODPOWIEDŹ`, oraz\n",
    "że podałeś swoje imię i nazwisko poniżej:"
   ]
  },
  {
   "cell_type": "code",
   "execution_count": 1,
   "metadata": {},
   "outputs": [
    {
     "output_type": "execute_result",
     "data": {
      "text/plain": [
       "True"
      ]
     },
     "metadata": {},
     "execution_count": 1
    }
   ],
   "source": [
    "NAME = \"Marcel Cielinski\"\n",
    "\n",
    "# out\n",
    "import sys\n",
    "sys.executable.split('/')[-3] == 'puma_venv'"
   ]
  },
  {
   "cell_type": "markdown",
   "metadata": {},
   "source": [
    "---"
   ]
  },
  {
   "cell_type": "code",
   "execution_count": 2,
   "metadata": {},
   "outputs": [],
   "source": [
    "import itertools\n",
    "from typing import Collection, Dict, List, Optional, Tuple\n",
    "\n",
    "from IPython.display import display, Markdown\n",
    "import matplotlib.pyplot as plt\n",
    "import numpy as np\n",
    "import pandas as pd\n",
    "from tqdm.auto import tqdm"
   ]
  },
  {
   "cell_type": "markdown",
   "metadata": {},
   "source": [
    "# Ukryte Modele Markowa (*Hidden Markov Models*) - wprowadzenie\n",
    "\n",
    "W odróżnieniu od dotychczas rozważanych problemów, przy danych sekwencyjnych mówimy o zbiorach obserwacji, których kolejność odgrywa istotną rolę. Przykładem takich danych są np. serie czasowe, czy też język naturalny.\n",
    "\n",
    "W najprostszym podejściu moglibyśmy zignorować sekwencyjność danych (założyć, że są one *IID*) i potraktować jednym z dotychczasowych modeli. Przez zignorowanie zależności występujących pomiędzy kolejnymi krokami tracimy jednak istotne informacje, przez co możemy nie osiągnąć dobrych rezultatów.\n",
    "\n",
    "## Model Markowa\n",
    "\n",
    "Posłużymy się tutaj przykładem pogody. Załóżmy, że pogoda w danym dniu może być opisana zmienną losową, przyjmującą 3 wartości: $Z = \\{słońce, deszcz, śnieg\\}$. Zakładając, że dane są IID, jedyna informacja, na podstawie której możemy wnioskować z danych to względna częstość dni, gdy wystąpiły poszczególne zjawiska pogodowe. Pogoda jednak mocno zależy od trendów, które mogą trwać wiele dni.\n",
    "\n",
    "Modelem pozwalającym wyrazić takie zależności jest Model Markowa (*Markov Model*). Opisuje on prawdopodobieństwo przejścia pomiędzy poszczególnymi stanami $Z = \\{{z_0=słońce}, {z_1=deszcz}, {z_2=śnieg}\\}$. Przykładowe prawdopodobieństwa przejść pomiędzy stanami zawarte zostały w tabelce:\n",
    "\n",
    "| $$\\Pr(z^{(t)} | z^{(t-1)})$$ | $$z^{(t-1)} = słońce$$ | $$z^{(t-1)} = deszcz$$ | $$z^{(t-1)} = śnieg$$  |\n",
    "| :-: | :-: | :-: | :-: |\n",
    "| $$z^{(t)} = słońce$$ | 0.75 | 0.18 | 0.07 |\n",
    "| $$z^{(t)} = deszcz$$ | 0.45 | 0.52 | 0.03 |\n",
    "| $$z^{(t)} = śnieg$$  | 0.77 | 0.04 | 0.19 |\n",
    "\n",
    "![](assets/weather-obs.jpg)\n",
    "\n",
    "W tak zdefiniowanym modelu łączne prawdopodobieństwo sekwencji obserwacji dane jest iloczynem:\n",
    "\n",
    "$$P(z^{(1)}, \\dots, z^{(T)}) = \\prod_{t=1}^T P(z^{(t)} | z^{(1)}, \\dots, z^{(t-1)}). \\tag{1}$$\n",
    "\n",
    "Zakładając, że rozkłady warunkowe są niezależne od wszystkich obserwacji z wyjątkiem ostatniej uzyskujemy proces Markowa pierwszego rzędu (*first-order Markov chain*). Wówczas wzór upraszcza się do postaci:\n",
    "\n",
    "$$P(z^{(1)}, \\dots, z^{(T)}) = P(z^{(1)}) \\prod_{t=2}^T P(z^{(t)} | z^{(t-1)}). \\tag{2}$$\n",
    "\n",
    "Łańcuchy wyższego rzędu powstają przez uwzględnianie większej liczby poprzednich obserwacji.\n",
    "\n",
    "Do obliczenia prawdopodobieństwa sekwencji obserwacji dla łańcucha pierwszego rzędu, oprócz macierzy przejść pomiędzy stanami (tabelka - $a$) potrzebować będziemy **rozkładu stanów początkowych** $\\pi$, czyli prawdopodobieństw dla każdego z możliwych stanów na początku łańcucha.\n",
    "\n",
    "## Ukryty Model Markowa\n",
    "\n",
    "Rozwinięcie modeli Markowa, gdy zakładamy, że w modelu występują stany, których nie możemy obserwować (**stany ukryte** - *latent variables* $z$) oraz **obserwacje** (*observations*, czasem *evidence* $x$), które uzależnione są pewien sposób od tych stanów ukrytych. Rozszerzając wcześniejszy model, załóżmy że wcześniej wymienione stany są stanami ukrytymi; obserwować będziemy natomiast stroje kobiet: $X = \\{{x_0=sukienka}, {x_1=płaszcz}, {x_2=parasol}\\}$. Wtedy istotne będą, oprócz prawdopodobieństw przejścia, także prawdopodobieństwa **emisji**, czyli prawdopodobieństwa, że w danym stanie ukrytym zaobserwujemy daną obserwację:\n",
    "\n",
    "$$b_{jk} = P(X=x_k | Z = z_j). \\tag{3}$$\n",
    "\n",
    "Wówczas rozszerzony model będzie wyglądał następująco:\n",
    "\n",
    "![](assets/weather-hid.jpg)\n",
    "\n",
    "Poniższa tabelka zawiera prawdopodobieństwa emisji:\n",
    "\n",
    "| $$\\Pr(x_k | z_j$$ | $$z_j = słońce$$ | $$z_j = deszcz$$ | $$z_j = śnieg$$  |\n",
    "| :-: | :-: | :-: | :-: |\n",
    "| $$x_k = sukienka$$ | 0.79 | 0.08 | 0.00 |\n",
    "| $$x_k = płaszcz$$  | 0.13 | 0.25 | 0.92 |\n",
    "| $$x_k = parasol$$  | 0.08 | 0.67 | 0.08 |\n",
    "\n",
    "Ukryte Modele Markowa pozwalają nam na obliczanie łącznego prawdopodobieństwa sekwencji stanów ukrytych przy zadanej sekwencji stanów obserwowanych. Znając łączne prawdopodobieństwo sekwencji stanów ukrytych możemy określić ich najbardziej prawdopodobną sekwencję - znając sekwencję strojów kobiet w kilku kolejnych dniach oraz wspomniane wcześniej prawdopodobieństwa przejścia pomiędzy stanami ukrytymi, prawdopodobieństwa początkowe oraz prawdopodobieństwa emisji, będziemy mogli wnioskować na temat tego, jaka była pogoda w tych dniach.\n",
    "\n",
    "*Źródła: C. M. Bishop: Pattern Recognition and Machine Learning (2006)*\n"
   ]
  },
  {
   "cell_type": "markdown",
   "metadata": {},
   "source": [
    "## Definicja formalna\n",
    "\n",
    "**Ukryty model Markowa** jest zdefiniowany jako pięcioelementowa krotka $(X, Z, \\pi, a, b)$, gdzie:\n",
    "- $X$ - zbiór obserwacji\n",
    "- $Z$ - zbiór stanów ukrytych\n",
    "- $\\pi$ - rozkład prawdopodobieństwa stanów początkowych; $\\pi_i = P(z^{(1)} = z_i)$ ($\\pi_i$ oznacza prawdopodobieństwo  tego, że sekwencja stanów ukrytych rozpocznie się od stanu $z_i$)\n",
    "- $a$ - macierz prawdopodobieństw przejść między stanami ukrytymi $a_{ij} = P(z^{(t)} = z_j | z^{(t-1)} = z_i)$ ($a_{ij}$ oznacza prawdopodobieństwo przejścia ze stanu $z_i$ do stanu $z_j$)\n",
    "- $b$ - macierz prawdpodobieństw emisji $b_{jk} = P(x^{(t)} = x_k | z^{(t)} = z_j)$ ($b_{jk}$ oznacza prawdopodobieństwo obserwacji symbolu $x_k$ gdy model jest w stanie ukrytym $z_j$)\n",
    "\n",
    "Indeks górny $t$ oznacza pozycję w sekwencji (ang. *timestamp*, *time step*).\n",
    "\n",
    "Poniżej przykład dla kolejności aminokwasów w łańcuchu DNA:\n",
    "\n",
    "![](assets/gene-hmm.png)\n",
    "\n",
    "W tym przykładzie ukryty model Markova ma następujące parametry:\n",
    "$$X = \\{A, C, G, T\\}$$\n",
    "\n",
    "$$Z = \\{H, L\\}$$\n",
    "\n",
    "$$\\pi = [0.5, 0.5]$$\n",
    "\n",
    "$$a = \\begin{pmatrix} 0.5 & 0.5 \\\\ 0.4 & 0.6 \\end{pmatrix}$$\n",
    "\n",
    "$$b = \\begin{pmatrix} 0.2 & 0.3 \\\\ 0.3 & 0.2 \\\\ 0.3 & 0.2 \\\\ 0.2 & 0.3\\end{pmatrix}$$\n",
    "\n",
    "\n",
    "*Źródło: https://www.cis.upenn.edu/~cis262/notes/Example-Viterbi-DNA.pdf*"
   ]
  },
  {
   "cell_type": "markdown",
   "metadata": {},
   "source": [
    "Poniższa klasa zawiera przykładową implementację ukrytego modelu Markova - odpowiednik pięcioelementowej krotki."
   ]
  },
  {
   "cell_type": "code",
   "execution_count": 3,
   "metadata": {},
   "outputs": [],
   "source": [
    "class HMM:\n",
    "    def __init__(\n",
    "        self, \n",
    "        Z: Collection[str], \n",
    "        X: Collection[str], \n",
    "        init_dist: Optional[Dict[str, float]] = None, \n",
    "        transition_probs: Optional[Dict[Tuple[str, str], float]] = None, \n",
    "        emission_probs: Optional[Dict[Tuple[str, str], float]] = None,\n",
    "    ):\n",
    "        self.Z = Z  # Hidden states space\n",
    "        self.X = X  # Observations space\n",
    "\n",
    "        self.pi = init_dist  # P(z_0); z_0 -> p\n",
    "        self.tr = transition_probs  # P(z_t | z_{t-1}); (z_t_1, z_t) -> p\n",
    "        self.em = emission_probs  # P (x_t | z_t); (x_t, z_t) -> p\n",
    "        \n",
    "    @property\n",
    "    def theta(self):\n",
    "        return self.pi, self.tr, self.em\n",
    "    \n",
    "    @theta.setter\n",
    "    def theta(self, values: tuple):\n",
    "        self.pi, self.tr, self.em = values"
   ]
  },
  {
   "cell_type": "markdown",
   "metadata": {},
   "source": [
    "Używając tej klasy możemy zdefiniować taki sam ukryty model Markova jak przedstawiono na powyższym rysunku:"
   ]
  },
  {
   "cell_type": "code",
   "execution_count": 4,
   "metadata": {
    "deletable": false,
    "editable": false,
    "nbgrader": {
     "cell_type": "code",
     "checksum": "1dbf22f40a22c3e6713af662c3ede576",
     "grade": false,
     "grade_id": "default-hmms",
     "locked": true,
     "schema_version": 3,
     "solution": false,
     "task": false
    }
   },
   "outputs": [],
   "source": [
    "def get_gene_hmm():\n",
    "    _hmm = HMM(\n",
    "        Z=('H', 'L'),\n",
    "        X=('A', 'C', 'G', 'T'),\n",
    "        init_dist={'H': 0.5, 'L': 0.5},\n",
    "        transition_probs={\n",
    "            ('H', 'H'): 0.5, ('H', 'L'): 0.5,\n",
    "            ('L', 'L'): 0.6, ('L', 'H'): 0.4, \n",
    "        },\n",
    "        emission_probs={\n",
    "            ('A', 'H'): 0.2, ('C', 'H'): 0.3, ('G', 'H'): 0.3, ('T', 'H'): 0.2,\n",
    "            ('A', 'L'): 0.3, ('C', 'L'): 0.2, ('G', 'L'): 0.2, ('T', 'L'): 0.3,\n",
    "        }\n",
    "    )\n",
    "\n",
    "    return _hmm\n",
    "\n",
    "def get_weather_hmm():\n",
    "    _hmm = HMM(\n",
    "        Z=('Rainy', 'Sunny'),\n",
    "        X=('Walk', 'Shop', 'Clean'),\n",
    "        init_dist={'Rainy': 0.6, 'Sunny': 0.4},\n",
    "        transition_probs={\n",
    "            ('Rainy', 'Rainy'): 0.7, ('Rainy', 'Sunny'): 0.3,\n",
    "            ('Sunny', 'Rainy'): 0.4, ('Sunny', 'Sunny'): 0.6,\n",
    "        },\n",
    "        emission_probs={\n",
    "            ('Walk', 'Rainy'): 0.1, ('Shop', 'Rainy'): 0.4, ('Clean', 'Rainy'): 0.5,\n",
    "            ('Walk', 'Sunny'): 0.6, ('Shop', 'Sunny'): 0.3, ('Clean', 'Sunny'): 0.1,\n",
    "        }\n",
    "    )\n",
    "\n",
    "    return _hmm"
   ]
  },
  {
   "cell_type": "markdown",
   "metadata": {},
   "source": [
    "Wypiszmy parametry modelu w bardziej przystępnej formie:"
   ]
  },
  {
   "cell_type": "code",
   "execution_count": 5,
   "metadata": {},
   "outputs": [],
   "source": [
    "def hmm_basic_info(hmm):\n",
    "    \"\"\"Displays parameters of given HMM.\"\"\"\n",
    "    # Initial distribution `pi`\n",
    "    pi_df = pd.DataFrame(\n",
    "        columns=[f'$$z^{{(0)}} = {z_0}$$' for z_0 in hmm.pi.keys()],\n",
    "        index=[\"$$P(z^{{(0)}})$$\"],\n",
    "    )\n",
    "\n",
    "    for z_0, p_z_0 in hmm.pi.items():\n",
    "        pi_df[f'$$z^{{(0)}} = {z_0}$$']['$$P(z^{{(0)}})$$'] = p_z_0\n",
    "        \n",
    "    display(pi_df)\n",
    "    \n",
    "    # Transition matrix `a`\n",
    "    a_df = pd.DataFrame(\n",
    "        columns=[f'$$z^{{(t)}} = {dst}$$' for dst in hmm.Z],\n",
    "        index=[f'$$z^{{(t-1)}} = {src}$$' for src in hmm.Z],\n",
    "    )\n",
    "\n",
    "    for (src, dst), val in hmm.tr.items():\n",
    "        a_df[f'$$z^{{(t)}} = {dst}$$'][f'$$z^{{(t-1)}} = {src}$$'] = val\n",
    "        \n",
    "    display(a_df)\n",
    "    \n",
    "    # Emission matrix `b`\n",
    "    b_df = pd.DataFrame(\n",
    "        columns=[f'$$z^{{(t)}} = {z}$$' for z in hmm.Z],\n",
    "        index=[f'$$x^{{(t)}} = {x}$$' for x in hmm.X],\n",
    "    )\n",
    "\n",
    "    for (x, z), val in hmm.em.items():\n",
    "        b_df[f'$$z^{{(t)}} = {z}$$'][f'$$x^{{(t)}} = {x}$$'] = val\n",
    "    \n",
    "    display(b_df)"
   ]
  },
  {
   "cell_type": "code",
   "execution_count": 6,
   "metadata": {},
   "outputs": [
    {
     "output_type": "display_data",
     "data": {
      "text/plain": "                 $$z^{(0)} = H$$ $$z^{(0)} = L$$\n$$P(z^{{(0)}})$$             0.5             0.5",
      "text/html": "<div>\n<style scoped>\n    .dataframe tbody tr th:only-of-type {\n        vertical-align: middle;\n    }\n\n    .dataframe tbody tr th {\n        vertical-align: top;\n    }\n\n    .dataframe thead th {\n        text-align: right;\n    }\n</style>\n<table border=\"1\" class=\"dataframe\">\n  <thead>\n    <tr style=\"text-align: right;\">\n      <th></th>\n      <th>$$z^{(0)} = H$$</th>\n      <th>$$z^{(0)} = L$$</th>\n    </tr>\n  </thead>\n  <tbody>\n    <tr>\n      <th>$$P(z^{{(0)}})$$</th>\n      <td>0.5</td>\n      <td>0.5</td>\n    </tr>\n  </tbody>\n</table>\n</div>"
     },
     "metadata": {}
    },
    {
     "output_type": "display_data",
     "data": {
      "text/plain": "                  $$z^{(t)} = H$$ $$z^{(t)} = L$$\n$$z^{(t-1)} = H$$             0.5             0.5\n$$z^{(t-1)} = L$$             0.4             0.6",
      "text/html": "<div>\n<style scoped>\n    .dataframe tbody tr th:only-of-type {\n        vertical-align: middle;\n    }\n\n    .dataframe tbody tr th {\n        vertical-align: top;\n    }\n\n    .dataframe thead th {\n        text-align: right;\n    }\n</style>\n<table border=\"1\" class=\"dataframe\">\n  <thead>\n    <tr style=\"text-align: right;\">\n      <th></th>\n      <th>$$z^{(t)} = H$$</th>\n      <th>$$z^{(t)} = L$$</th>\n    </tr>\n  </thead>\n  <tbody>\n    <tr>\n      <th>$$z^{(t-1)} = H$$</th>\n      <td>0.5</td>\n      <td>0.5</td>\n    </tr>\n    <tr>\n      <th>$$z^{(t-1)} = L$$</th>\n      <td>0.4</td>\n      <td>0.6</td>\n    </tr>\n  </tbody>\n</table>\n</div>"
     },
     "metadata": {}
    },
    {
     "output_type": "display_data",
     "data": {
      "text/plain": "                $$z^{(t)} = H$$ $$z^{(t)} = L$$\n$$x^{(t)} = A$$             0.2             0.3\n$$x^{(t)} = C$$             0.3             0.2\n$$x^{(t)} = G$$             0.3             0.2\n$$x^{(t)} = T$$             0.2             0.3",
      "text/html": "<div>\n<style scoped>\n    .dataframe tbody tr th:only-of-type {\n        vertical-align: middle;\n    }\n\n    .dataframe tbody tr th {\n        vertical-align: top;\n    }\n\n    .dataframe thead th {\n        text-align: right;\n    }\n</style>\n<table border=\"1\" class=\"dataframe\">\n  <thead>\n    <tr style=\"text-align: right;\">\n      <th></th>\n      <th>$$z^{(t)} = H$$</th>\n      <th>$$z^{(t)} = L$$</th>\n    </tr>\n  </thead>\n  <tbody>\n    <tr>\n      <th>$$x^{(t)} = A$$</th>\n      <td>0.2</td>\n      <td>0.3</td>\n    </tr>\n    <tr>\n      <th>$$x^{(t)} = C$$</th>\n      <td>0.3</td>\n      <td>0.2</td>\n    </tr>\n    <tr>\n      <th>$$x^{(t)} = G$$</th>\n      <td>0.3</td>\n      <td>0.2</td>\n    </tr>\n    <tr>\n      <th>$$x^{(t)} = T$$</th>\n      <td>0.2</td>\n      <td>0.3</td>\n    </tr>\n  </tbody>\n</table>\n</div>"
     },
     "metadata": {}
    }
   ],
   "source": [
    "# HERE: zmień jeśli chcesz przeanalizować inne dane\n",
    "hmm = get_gene_hmm()\n",
    "# hmm = get_weather_hmm()\n",
    "\n",
    "hmm_basic_info(hmm=hmm)"
   ]
  },
  {
   "cell_type": "markdown",
   "metadata": {},
   "source": [
    "# Prawdopodobieństwo obserwacji podanej sekwencji\n",
    "W celu obliczenia prawdopodobieństwa $\\mathbb{P}(x^{(1)}, \\ldots, x^{(T)} |\\theta)$ obserwacji danej sekwencji $x^{(1)}, \\ldots, x^{(T)}$ dla modelu określonego za pomocą parametrów $\\theta$, używa się tzw. algorytmu **Forward**. Wyniki obliczeń z kolejnych iteracji algorytmu $\\alpha$ są często zapisywane w postaci tabelki:\n",
    "\n",
    "$$\\alpha = \\forall_{z_j \\in Z} \\forall_{t \\in \\{1..T\\}} \\alpha_j(t)$$\n",
    "\n",
    "Wiersze w tej tabeli odpowiadają stanom ukrytym modelu (tzn. mamy $|Z|$ wierszy), a kolumny - kolejnym obserwowanym symbolom (tzn. mamy $T$ kolumn, gdzie $T$ to długość sekwencji). Poniższy rysunek przestawia obliczenia dla poprzednio pokazanego przykładowego ukrytego modelu Markova (stany ukryte $Z = \\{H, L\\}$) oraz sekwencji $x^{(1)} = G, x^{(2)} = G, x^{(3)} = C, x^{(4)} =A$ ($T = 4$): \n",
    "\n",
    "\n",
    "![](assets/forward.png)\n",
    "\n",
    "Na początku rozważamy pierwszy obserwowany symbol $x_1 = \"G\"$. Dla każdego możliwego początkowego stanu ukrytego $z_1$ obliczamy wartości $\\alpha(1)$ jako iloczyny prawd. rozpoczęcia sekwencji stanów ukrytych od danego stanu (rozkład $\\pi$) oraz prawd. emisji symbolu $x_1$ w tym stanie (macierz emisji $b$). Otrzymujemy zatem $|Z|$ wartości, które tworzą pierwszą kolumnę w tabelce. \n",
    "\n",
    "W kolejnych krokach algorytmu dla danej obserwacji $x^{(t)}$, będziemy zakładać, że w poprzednim kroku $t-1$ model mógł się znajdować w dowolnym stanie ukrytym $z^{(t-1)}$. Musimy zatem obliczyć iloczyn prawd. znajdywania się w danym stanie ukrytym, przejścia do obecnego stanu oraz emisji symbolu w danym stanie. Obliczone iloczyny z każdego poprzedniego stanu ukrytego dodajemy, aby otrzymać prawdopodobieństwo dla kroku $t$. \n",
    "\n",
    "$$\n",
    " \\alpha_j(t) = \n",
    "  \\begin{cases} \n",
    "   \\pi_j b_{jk} & \\text{if } t = 1 \\\\\n",
    "   b_{jk} \\sum_{z_i \\in Z} \\alpha_i(t - 1) a_{ij} & \\text{if } t > 1\n",
    "  \\end{cases}\n",
    "$$\n",
    "\n",
    "Zakładamy, że w danym momencie $t$ obserwujemy symbol $x_k$ (stąd oznaczenie $b_{jk}$).\n",
    "\n",
    "Ostatecznie prawdpodobieństwo obserwacji danej sekwencji $x^{(1)}, \\ldots, x^{(T)}$ obliczamy jako sumę wartości w ostatniej kolumnie tabelki $\\alpha$, tzn.\n",
    "\n",
    "$$\\mathbb{P}(x^{(1)}, \\ldots, x^{(T)}|\\theta) = \\sum_{z_i \\in Z} \\alpha_i(T)$$\n",
    "\n",
    "\n",
    "*Source: https://www.cis.upenn.edu/~cis262/notes/Example-Viterbi-DNA.pdf*"
   ]
  },
  {
   "cell_type": "markdown",
   "metadata": {},
   "source": [
    "# Zadanie 1 (1.5 + 0.5 pkt)\n",
    "**a)** Zaimplementuj, zgodnie z powyższym opisem, algorytm **Forward** - funkcja `forward()`. W celu uniknięcia problemów ze stabilnością numeryczną obliczaj logarytmy prawdopodobieństw. Wykorzystaj podaną funkcję `logsumexp()`."
   ]
  },
  {
   "cell_type": "code",
   "execution_count": 7,
   "metadata": {},
   "outputs": [],
   "source": [
    "def logsumexp(x):\n",
    "    \"\"\"Compute sum of log-probs using log-sum-exp trick.\"\"\"\n",
    "    x = np.array(x)\n",
    "    x_max = max(x)\n",
    "    return np.log(np.sum(np.exp(x - x_max))) + x_max"
   ]
  },
  {
   "cell_type": "code",
   "execution_count": 8,
   "metadata": {
    "deletable": false,
    "nbgrader": {
     "cell_type": "code",
     "checksum": "efa4a5ae689776d16dfc432091c3f63f",
     "grade": false,
     "grade_id": "forward",
     "locked": false,
     "schema_version": 3,
     "solution": true,
     "task": false
    }
   },
   "outputs": [],
   "source": [
    "def forward(hmm: HMM, X: List[str]):\n",
    "    \"\"\"Implement the forward algorithm.\n",
    "\n",
    "    :param hmm: Hidden Markov Model object.\n",
    "    :param X: Sequence of elements of length T.\n",
    "    :return: alpha. Dict of log-probabilities, where each key (t, z) denotes\n",
    "        that any particular state z is chosen at the step t.\n",
    "    \"\"\"\n",
    "    alpha = {}  # (t, z_j) -> log_p\n",
    "    \n",
    "    # TU WPISZ KOD\n",
    "    # raise NotImplementedError()\n",
    "\n",
    "    # pi - init_dist            P(z_0); z_0 -> p\n",
    "    # tr - transition_probs     P(z_t | z_{t-1}); (z_t_1, z_t) -> p\n",
    "    # em - emission_probs       P(x_t | z_t); (x_t, z_t) -> p\n",
    "    pi, tr, em = hmm.theta\n",
    "\n",
    "    T = len(X)  # length of elements sequence (X)\n",
    "    Z = list(pi.keys())  # hidden states\n",
    "\n",
    "    # for t in range(T):\n",
    "    #     if t == 0:  # pi_j b_{jk} \n",
    "    #         for z, prob in pi.items():  # z -> hidden state\n",
    "    #             alpha[(t, z)] = prob * em[(X[t], z)]\n",
    "    #     else:  # b_{jk} \\sum_{z_i \\in Z} \\alpha_i(t - 1) a_{ij}\n",
    "    #         for z in Z:\n",
    "    #             prob = 0\n",
    "    #             for z_prev in Z:\n",
    "    #                 prob += alpha[(t-1, z_prev)] * tr[(z_prev, z)]\n",
    "    #             alpha[(t, z)] = prob * em[(X[t], z)]\n",
    "\n",
    "    for t in range(T):\n",
    "        if t == 0:  # pi_j b_{jk} \n",
    "            for z, prob in pi.items():  # z -> hidden state\n",
    "                alpha[(t, z)] = np.log(prob) + np.log(em[(X[t], z)])\n",
    "        else:  # b_{jk} \\sum_{z_i \\in Z} \\alpha_i(t - 1) a_{ij}\n",
    "            for z in Z:\n",
    "                prob = []\n",
    "                for z_prev in Z:\n",
    "                    subprob = alpha[(t-1, z_prev)] + np.log(tr[(z_prev, z)]) + np.log(em[(X[t], z)])\n",
    "                    prob.append(subprob)\n",
    "                alpha[(t, z)] = logsumexp(prob)\n",
    "\n",
    "    return alpha"
   ]
  },
  {
   "cell_type": "code",
   "execution_count": 9,
   "metadata": {
    "deletable": false,
    "editable": false,
    "nbgrader": {
     "cell_type": "code",
     "checksum": "11cd581d30aabda4c792fff0de94d108",
     "grade": true,
     "grade_id": "forward-tests",
     "locked": true,
     "points": 1.5,
     "schema_version": 3,
     "solution": false,
     "task": false
    }
   },
   "outputs": [],
   "source": [
    "# testy ukryte\n"
   ]
  },
  {
   "cell_type": "markdown",
   "metadata": {},
   "source": [
    "**b)** Następnie zaimplementuj funkcję `score_observation_sequence`, która oblicza prawdopodobieństwo obserwacji danej sekwencji $X = x^{(1)}, \\ldots, x^{(T)}$ pod warunkiem parametrów modelu $\\theta$. Tutaj również oblicz logarytm prawdpodobieństwa."
   ]
  },
  {
   "cell_type": "code",
   "execution_count": 10,
   "metadata": {
    "deletable": false,
    "nbgrader": {
     "cell_type": "code",
     "checksum": "b08b00b53b97d1f3d05a57b2f30717b2",
     "grade": false,
     "grade_id": "score-observation-sequence",
     "locked": false,
     "schema_version": 3,
     "solution": true,
     "task": false
    }
   },
   "outputs": [],
   "source": [
    "def score_observation_sequence(hmm: HMM, X: List[str]):\n",
    "    \"\"\"Computes the probability of observing a given sequence.\n",
    "\n",
    "    :param hmm: Hidden Markov Model object.\n",
    "    :param X: Sequence of elements of length T.\n",
    "    :return: Tuple of log probability and alpha matrix calculated using\n",
    "        `forward` step. Log probabilities are estimated as a sum of log\n",
    "        probs over each possible state in the last step of alpha. Note, that\n",
    "        these probabilities does not have to sum to one, since they\n",
    "        describe probability of all paths leading to a particular state.\n",
    "    \"\"\"\n",
    "    if any(param is None for param in hmm.theta):\n",
    "        raise RuntimeError('Model must be trained first!')\n",
    "    \n",
    "    alpha = forward(hmm=hmm, X=X)\n",
    "    log_p = None\n",
    "    \n",
    "    # TU WPISZ KOD\n",
    "    # raise NotImplementedError()\n",
    "\n",
    "    # pi - init_dist            P(z_0); z_0 -> p\n",
    "    pi, _, _ = hmm.theta\n",
    "\n",
    "    T = len(X)  # length of elements sequence (X)\n",
    "    last_step = T - 1\n",
    "    Z = list(pi.keys())  # hidden states\n",
    "\n",
    "    probs = []\n",
    "    for z in Z:\n",
    "        probs.append(alpha[(last_step, z)])\n",
    "        \n",
    "    log_p = logsumexp(probs)\n",
    "    \n",
    "    return log_p, alpha"
   ]
  },
  {
   "cell_type": "code",
   "execution_count": 11,
   "metadata": {
    "deletable": false,
    "editable": false,
    "nbgrader": {
     "cell_type": "code",
     "checksum": "c2fe29fe47640ef82ee66cc75c6aac9d",
     "grade": true,
     "grade_id": "score-observation-sequence-tests",
     "locked": true,
     "points": 0.5,
     "schema_version": 3,
     "solution": false,
     "task": false
    }
   },
   "outputs": [],
   "source": [
    "# testy ukryte\n"
   ]
  },
  {
   "cell_type": "code",
   "execution_count": 12,
   "metadata": {},
   "outputs": [],
   "source": [
    "def print_table(scores, T, Z, name):\n",
    "    df = pd.DataFrame(\n",
    "        columns=[f'$$t = {t}$$' for t in range(T)],\n",
    "        index=[f'$$z = {z}$$' for z in Z],\n",
    "    )\n",
    "\n",
    "    for (t, z), v in scores.items():\n",
    "        df[f'$$t = {t}$$'][f'$$z = {z}$$'] = np.round(v, 4)\n",
    "\n",
    "    display(Markdown(f'### {name} table'))\n",
    "    display(df)"
   ]
  },
  {
   "cell_type": "code",
   "execution_count": 13,
   "metadata": {},
   "outputs": [
    {
     "output_type": "stream",
     "name": "stdout",
     "text": [
      "Log-Probability of observing X: -5.561462936154913 (actual probability: 0.0038431500000000026)\n"
     ]
    },
    {
     "output_type": "display_data",
     "data": {
      "text/plain": "<IPython.core.display.Markdown object>",
      "text/markdown": "### Forward table"
     },
     "metadata": {}
    },
    {
     "output_type": "display_data",
     "data": {
      "text/plain": "          $$t = 0$$ $$t = 1$$ $$t = 2$$ $$t = 3$$\n$$z = H$$   -1.8971   -3.3668   -4.7777   -6.5881\n$$z = L$$   -2.3026   -3.6119   -5.0071    -6.005",
      "text/html": "<div>\n<style scoped>\n    .dataframe tbody tr th:only-of-type {\n        vertical-align: middle;\n    }\n\n    .dataframe tbody tr th {\n        vertical-align: top;\n    }\n\n    .dataframe thead th {\n        text-align: right;\n    }\n</style>\n<table border=\"1\" class=\"dataframe\">\n  <thead>\n    <tr style=\"text-align: right;\">\n      <th></th>\n      <th>$$t = 0$$</th>\n      <th>$$t = 1$$</th>\n      <th>$$t = 2$$</th>\n      <th>$$t = 3$$</th>\n    </tr>\n  </thead>\n  <tbody>\n    <tr>\n      <th>$$z = H$$</th>\n      <td>-1.8971</td>\n      <td>-3.3668</td>\n      <td>-4.7777</td>\n      <td>-6.5881</td>\n    </tr>\n    <tr>\n      <th>$$z = L$$</th>\n      <td>-2.3026</td>\n      <td>-3.6119</td>\n      <td>-5.0071</td>\n      <td>-6.005</td>\n    </tr>\n  </tbody>\n</table>\n</div>"
     },
     "metadata": {}
    }
   ],
   "source": [
    "# HERE: zmień jeśli chcesz przeanalizować inne dane\n",
    "sample_X = ['G', 'G', 'C', 'A']\n",
    "# sample_X = ['Walk', 'Clean', 'Clean', 'Clean', 'Shop']\n",
    "\n",
    "log_p, alpha = score_observation_sequence(hmm=hmm, X=sample_X)\n",
    "print(f'Log-Probability of observing X: {log_p} (actual probability: {np.exp(log_p)})')\n",
    "# np.log(0.00384315) = -5.561462936154914\n",
    "\n",
    "print_table(scores=alpha, T=len(sample_X), Z=hmm.Z, name='Forward')"
   ]
  },
  {
   "cell_type": "markdown",
   "metadata": {},
   "source": [
    "# Dekodowanie Viterbiego\n",
    "Kolejnym zadaniem związanym z ukrytym modelem Markova jest znajdywanie najbardziej prawdopodobnej sekwencji stanów ukrytych $Z_{max}$ dla podanej sekwencji obserwacji $X$. \n",
    "\n",
    "$$Z_{max} = \\max_{z^{(1)}, \\ldots, z^{(T)}} \\mathbb{P}(z^{(1)},z^{(2)},\\ldots,z^{(T)}, x^{(1)},x^{(2)}, \\ldots, x^{(T)} | \\theta)$$\n",
    "\n",
    "Stosowany jest tutaj algorytm **dekodowania Viterbiego** (*Viterbi decoding*). Działa on na podobnej zasadzie jak algorytm **Forward**, przy czym zamiast obliczać sumę po wszystkich poprzednich stanach ukrytych, tutaj wybieramy stan który miał największe prawdopodobieństwo. \n",
    "\n",
    "Będziemy obliczać wartości $\\omega$. Ponownie, przy oznaczeniach zakładamy, że w danym momencie $t$ obserwujemy symbol $x_k$ (stąd oznaczenie $b_{jk}$).\n",
    "\n",
    "$$\\omega_i(t) = \\max_{z^{(1)}, \\ldots, z^{(t)}} \\mathbb{P}(z^{(1)}, \\ldots, z^{(t-1)}, \\mathbf{z^{(t)} = z_i}, x^{(1)}, \\ldots, x^{(t-1)}, x^{(t)} | \\theta)$$\n",
    "\n",
    "$$\n",
    " \\omega_j(t) = \n",
    "  \\begin{cases} \n",
    "   \\pi_j b_{jk} & \\text{if } t = 1 \\\\\n",
    "   b_{jk} \\max_{z_i \\in Z}  a_{ij} \\omega_i(t - 1) & \\text{if } t > 1\n",
    "  \\end{cases}\n",
    "$$ \n",
    "\n",
    "W trakcie obliczania tych wartości, musimy zapamiętywać, który ze stanów wybraliśmy. Dzięki temu będziemy w stanie łatwo odtworzyć najbardziej prawdopodobną ścieżką stanów ukrytych (*backtracking*).\n",
    "\n",
    "![](assets/viterbi-decoding.png)\n",
    "\n",
    "*Source: https://www.cis.upenn.edu/~cis262/notes/Example-Viterbi-DNA.pdf*"
   ]
  },
  {
   "cell_type": "markdown",
   "metadata": {},
   "source": [
    "# Zadanie 2 (1.5 pkt.)\n",
    "Zaimplementuj funkcję `viterbi_decode`, która wyznaczy najbardziej prawdopodobną ścieżkę stanów ukrytych dla podanego modelu (parametry $\\theta$) oraz obserwacji $X$. Pamiętaj o obliczaniu logarytmów prawdopodobieństw."
   ]
  },
  {
   "cell_type": "code",
   "execution_count": 14,
   "metadata": {
    "deletable": false,
    "nbgrader": {
     "cell_type": "code",
     "checksum": "a6fa27198e1f00c1d2e44fbf3da21c5f",
     "grade": false,
     "grade_id": "viterbi-decoding",
     "locked": false,
     "schema_version": 3,
     "solution": true,
     "task": false
    }
   },
   "outputs": [],
   "source": [
    "def viterbi_decode(hmm: HMM, X: List[str]):\n",
    "    \"\"\"Implement the Viterbi decoding algorithm.\n",
    " \n",
    "    :param hmm: Hidden Markov Model object.\n",
    "    :param X: Sequence of elements of length T.\n",
    "    :return: Tuple of: the most probable path of hidden states and the\n",
    "        omega matrix. The most probability is chosen in a greedy fashion\n",
    "        by takin the most probable hidden state in each step. Omega describes\n",
    "        hidden states probabilities at each `t` step.\n",
    "    \"\"\"\n",
    "    if any(param is None for param in hmm.theta):\n",
    "        raise RuntimeError('Model must be trained first!')\n",
    "    \n",
    "    # Compute scores (forward pass)\n",
    "    omega = {}  # (t, z_t) -> max (log_p, z_{t-1})\n",
    "    max_Z = None\n",
    "    \n",
    "    # TU WPISZ KOD\n",
    "    # raise NotImplementedError()\n",
    " \n",
    "    # pi - init_dist            P(z_0); z_0 -> p\n",
    "    # tr - transition_probs     P(z_t | z_{t-1}); (z_t_1, z_t) -> p\n",
    "    # em - emission_probs       P(x_t | z_t); (x_t, z_t) -> p\n",
    "    pi, tr, em = hmm.theta\n",
    " \n",
    "    T = len(X)  # length of elements sequence (X)\n",
    "    Z = list(pi.keys())  # hidden states\n",
    "    max_Z = list()\n",
    " \n",
    "    # for t in range(T):\n",
    "    #     max_prob, max_z = -9999, None\n",
    "    #     if t == 0:  # pi_j b_{jk} \n",
    "    #         for z, prob in pi.items():  # z -> hidden state\n",
    "    #             omega_prob = prob * em[(X[t], z)]\n",
    "    #             omega[(t, z)] = (omega_prob, max_z)\n",
    "    #             if omega_prob > max_prob:\n",
    "    #                 max_prob = omega_prob\n",
    "    #                 max_z = z\n",
    "    #         max_Z.append(max_z)\n",
    "    #     else:  # b_{jk} \\max_{z_i \\in Z} a_{ij} \\omega_i(t - 1)\n",
    "    #         for z in Z:\n",
    "    #             z_prev = max_Z[t-1]\n",
    "    #             omega_prob = omega[(t-1, z_prev)][0] * tr[(z_prev, z)] * em[(X[t], z)]\n",
    "    #             omega[(t, z)] = (omega_prob, z_prev)\n",
    "    #             if omega_prob > max_prob:\n",
    "    #                 max_prob = omega_prob\n",
    "    #                 max_z = z\n",
    "    #         max_Z.append(max_z)\n",
    "    \n",
    "    for t in range(T):\n",
    "        max_prob, max_z = -9999, None\n",
    "        if t == 0:  # pi_j b_{jk} \n",
    "            for z, prob in pi.items():  # z -> hidden state\n",
    "                omega_prob = np.log(prob) + np.log(em[(X[t], z)])\n",
    "                omega[(t, z)] = (omega_prob, max_z)\n",
    "                if omega_prob > max_prob:\n",
    "                    max_prob = omega_prob\n",
    "                    max_z = z\n",
    "            max_Z.append(max_z)\n",
    "        else:  # b_{jk} \\max_{z_i \\in Z} a_{ij} \\omega_i(t - 1)\n",
    "            for z in Z:\n",
    "                z_prev = max_Z[t-1]\n",
    "                omega_prob = omega[(t-1, z_prev)][0] + np.log(tr[(z_prev, z)]) + np.log(em[(X[t], z)])\n",
    "                omega[(t, z)] = (omega_prob, z_prev)\n",
    "                if omega_prob > max_prob:\n",
    "                    max_prob = omega_prob\n",
    "                    max_z = z\n",
    "            max_Z.append(max_z)\n",
    "\n",
    "    return max_Z, omega"
   ]
  },
  {
   "cell_type": "code",
   "execution_count": 15,
   "metadata": {
    "deletable": false,
    "editable": false,
    "nbgrader": {
     "cell_type": "code",
     "checksum": "537c2c504410eaa7443d1e7fb221cec1",
     "grade": true,
     "grade_id": "viterbi-decoding-tests",
     "locked": true,
     "points": 1.5,
     "schema_version": 3,
     "solution": false,
     "task": false
    }
   },
   "outputs": [],
   "source": [
    "# testy ukryte\n"
   ]
  },
  {
   "cell_type": "code",
   "execution_count": 16,
   "metadata": {},
   "outputs": [],
   "source": [
    "def print_viterbi_table(scores, T, Z):\n",
    "    def highlight_max(s):\n",
    "        is_max = s == s.max()\n",
    "        return ['background-color: yellow' if v else '' for v in is_max]\n",
    "\n",
    "    df = pd.DataFrame(\n",
    "        columns=[f'$$t = {t}$$' for t in range(T)],\n",
    "        index=[f'$$z = {z}$$' for z in Z],\n",
    "    )\n",
    "\n",
    "    for (t, z), v in scores.items():\n",
    "        df[f'$$t = {t}$$'][f'$$z = {z}$$'] = (np.round(v[0], 4), v[1])\n",
    "\n",
    "\n",
    "    df = df.style.apply(highlight_max)\n",
    "\n",
    "    display(Markdown('### Viterbi table'))\n",
    "    display(df)"
   ]
  },
  {
   "cell_type": "code",
   "execution_count": 17,
   "metadata": {},
   "outputs": [
    {
     "output_type": "stream",
     "name": "stdout",
     "text": [
      "Most probable sequence of hidden states: ['H', 'H', 'H', 'L']\n"
     ]
    },
    {
     "output_type": "display_data",
     "data": {
      "text/plain": "<IPython.core.display.Markdown object>",
      "text/markdown": "### Viterbi table"
     },
     "metadata": {}
    },
    {
     "output_type": "display_data",
     "data": {
      "text/plain": "<pandas.io.formats.style.Styler at 0x105cf1f10>",
      "text/html": "<style  type=\"text/css\" >\n#T_72cb4_row0_col0,#T_72cb4_row0_col1,#T_72cb4_row0_col2,#T_72cb4_row1_col3{\n            background-color:  yellow;\n        }</style><table id=\"T_72cb4_\" ><thead>    <tr>        <th class=\"blank level0\" ></th>        <th class=\"col_heading level0 col0\" >$$t = 0$$</th>        <th class=\"col_heading level0 col1\" >$$t = 1$$</th>        <th class=\"col_heading level0 col2\" >$$t = 2$$</th>        <th class=\"col_heading level0 col3\" >$$t = 3$$</th>    </tr></thead><tbody>\n                <tr>\n                        <th id=\"T_72cb4_level0_row0\" class=\"row_heading level0 row0\" >$$z = H$$</th>\n                        <td id=\"T_72cb4_row0_col0\" class=\"data row0 col0\" >(-1.8971, None)</td>\n                        <td id=\"T_72cb4_row0_col1\" class=\"data row0 col1\" >(-3.7942, 'H')</td>\n                        <td id=\"T_72cb4_row0_col2\" class=\"data row0 col2\" >(-5.6914, 'H')</td>\n                        <td id=\"T_72cb4_row0_col3\" class=\"data row0 col3\" >(-7.9939, 'H')</td>\n            </tr>\n            <tr>\n                        <th id=\"T_72cb4_level0_row1\" class=\"row_heading level0 row1\" >$$z = L$$</th>\n                        <td id=\"T_72cb4_row1_col0\" class=\"data row1 col0\" >(-2.3026, 'H')</td>\n                        <td id=\"T_72cb4_row1_col1\" class=\"data row1 col1\" >(-4.1997, 'H')</td>\n                        <td id=\"T_72cb4_row1_col2\" class=\"data row1 col2\" >(-6.0968, 'H')</td>\n                        <td id=\"T_72cb4_row1_col3\" class=\"data row1 col3\" >(-7.5885, 'H')</td>\n            </tr>\n    </tbody></table>"
     },
     "metadata": {}
    }
   ],
   "source": [
    "max_Z, scores = viterbi_decode(hmm=hmm, X=sample_X)\n",
    "\n",
    "print('Most probable sequence of hidden states:', max_Z)\n",
    "\n",
    "print_viterbi_table(scores=scores, T=len(sample_X), Z=hmm.Z)"
   ]
  },
  {
   "cell_type": "markdown",
   "metadata": {},
   "source": [
    "# Generowanie danych za pomocą ukrytego modelu Markova\n",
    "Możemy użyć ukryty model Markova, aby wygenerować (wypróbkować) sekwencję obserwacji i stanów ukrytych. Na początku losujemy z rozkładu $\\pi$ ukryty stan początkowy $z^{(1)}$. Następnie, korzystając z macierzy przejść (tranzycji) $a$ losujemy kolejne stany ukryte. W tym samym czasie (lub po wygenerowaniu sekwencji stanów ukrytych), korzystając z macierzy emisji $b$, losujemy (dla każdego stanu ukrytego $z^{(t)}$) obserwację $x^{(t)}$."
   ]
  },
  {
   "cell_type": "code",
   "execution_count": 18,
   "metadata": {},
   "outputs": [],
   "source": [
    "def generate(hmm: HMM, N: int):\n",
    "    \"\"\"Generates `N` observations and returns both X and Z.\"\"\"\n",
    "    X, Z = [], []\n",
    "\n",
    "    # Draw initial state\n",
    "    z_0 = np.random.choice(\n",
    "        a=hmm.Z,\n",
    "        p=[hmm.pi[z] for z in hmm.Z],\n",
    "    )\n",
    "    Z.append(z_0)\n",
    "\n",
    "    # Draw next states based on transition matrix\n",
    "    z_t_1 = z_0\n",
    "    for _ in range(N - 1):\n",
    "        z_t = np.random.choice(\n",
    "            a=hmm.Z,\n",
    "            p=[hmm.tr[(z_t_1, z)] for z in hmm.Z],\n",
    "        )\n",
    "\n",
    "        Z.append(z_t)\n",
    "        z_t_1 = z_t\n",
    "\n",
    "    # Draw observations\n",
    "    for z_t in Z:\n",
    "        x_t = np.random.choice(\n",
    "            a=hmm.X,\n",
    "            p=[hmm.em[(x, z_t)] for x in hmm.X],\n",
    "        )\n",
    "        X.append(x_t)\n",
    "\n",
    "    return X, Z"
   ]
  },
  {
   "cell_type": "code",
   "execution_count": 19,
   "metadata": {},
   "outputs": [
    {
     "output_type": "stream",
     "name": "stdout",
     "text": [
      "Z (hidden states): ['H', 'H', 'L', 'L', 'L', 'H', 'L', 'L', 'L', 'H']\nX (observations): ['A', 'G', 'C', 'G', 'T', 'C', 'C', 'A', 'A', 'A']\n"
     ]
    }
   ],
   "source": [
    "num_observations = 10\n",
    "X_generated, Z_generated = generate(hmm=hmm, N=num_observations)\n",
    "\n",
    "print('Z (hidden states):', Z_generated)\n",
    "print('X (observations):', X_generated)"
   ]
  },
  {
   "cell_type": "markdown",
   "metadata": {},
   "source": [
    "# Uczenie ukrytego modelu Markova\n",
    "Znając przestrzeń stanów ukrytych $Z$ oraz przestrzeń obserwacji $X$, możemy dla podanego zbioru sekwencji obserwacji wyestymować parametry $(\\pi, a, b)$ ukrytego modelu Markova. Najczęściej stosowanymi algorytmami są: **algorytm (uczenia) Viterbiego** oraz **algorytm Baum-Welcha** (zwany również algorytmem **Forward-Backward**). W ramach kursu zajmiemy się algorytmem Viterbiego.\n"
   ]
  },
  {
   "cell_type": "code",
   "execution_count": 20,
   "metadata": {},
   "outputs": [],
   "source": [
    "def make_dataset(model, num_seq, seq_length, train_size):\n",
    "    tr_size = int(train_size * num_seq)\n",
    "    te_size = num_seq - tr_size\n",
    "\n",
    "    ds = {\n",
    "        'train': np.array([generate(hmm=model, N=seq_length)[0] for _ in range(tr_size)]),\n",
    "        'test': np.array([generate(hmm=model, N=seq_length)[0] for _ in range(te_size)]),\n",
    "    }\n",
    "    \n",
    "    return ds"
   ]
  },
  {
   "cell_type": "code",
   "execution_count": 21,
   "metadata": {},
   "outputs": [],
   "source": [
    "def pdist(n, rng=None):\n",
    "    p = np.random.uniform(size=n)\n",
    "    p /= sum(p)\n",
    "    return p\n",
    "\n",
    "\n",
    "def get_uninitialized_hmm(Z, X):\n",
    "    # Initial distribution    \n",
    "    pi = {z: v for z, v in zip(Z, pdist(len(Z)))}\n",
    "    \n",
    "    # Transition probs\n",
    "    tr = {\n",
    "        (z_t_1, z_t): p\n",
    "        for z_t_1 in Z\n",
    "        for z_t, p in zip(Z, pdist(len(Z)))\n",
    "    }\n",
    "    \n",
    "    # Emission probs\n",
    "    em = {\n",
    "        (x, z_k): p\n",
    "        for z_k in Z\n",
    "        for x, p in zip(X, pdist(len(X)))\n",
    "    }\n",
    "    \n",
    "    _hmm = HMM(\n",
    "        Z=Z, \n",
    "        X=X, \n",
    "        init_dist=pi, \n",
    "        transition_probs=tr, \n",
    "        emission_probs=em,\n",
    "    )\n",
    "    return _hmm\n",
    "\n",
    "\n",
    "def get_uninitialized_gene_hmm():\n",
    "    return get_uninitialized_hmm(\n",
    "        Z=('H', 'L'),\n",
    "        X=('A', 'C', 'G', 'T'),\n",
    "    )\n",
    "\n",
    "\n",
    "def get_uninitialized_weather_hmm():\n",
    "    return get_uninitialized_hmm(\n",
    "        Z=('Rainy', 'Sunny'),\n",
    "        X=('Walk', 'Shop', 'Clean'),\n",
    "    )"
   ]
  },
  {
   "cell_type": "code",
   "execution_count": 22,
   "metadata": {},
   "outputs": [
    {
     "output_type": "stream",
     "name": "stdout",
     "text": [
      "Train => (800, 10)\nTest => (200, 10)\n"
     ]
    }
   ],
   "source": [
    "dataset = make_dataset(model=hmm, num_seq=1_000, seq_length=10, train_size=0.8)\n",
    "\n",
    "print('Train =>', dataset['train'].shape)\n",
    "print('Test =>', dataset['test'].shape)"
   ]
  },
  {
   "cell_type": "markdown",
   "metadata": {},
   "source": [
    "# Algorytm Viterbiego (uczenie)\n",
    "Algorytm ten jest przykładem metody Maximum Likelihood Estimation. Pozwala on na estymację / wyuczenie parametrów ukrytego modelu Markova $\\theta = (\\pi, a, b)$. Algorytm jest zdefiniowany następująco:  \n",
    "\n",
    "1. Losowo zainicjalizuj parametry $\\theta_0$ oraz ustaw licznik iteracji $q = 0$\n",
    "2. Dopóki nie jest spełniony warunek zatrzymania wykonuj:\n",
    "    - zainicjalizuj liczniki:\n",
    "        - początkowych stanów ukrytych $n^{(\\pi)}$: $\\forall_{z_i \\in Z} \\;n^{(\\pi)}_i = 0$\n",
    "        - macierzy przejść $n^{(a)}$: $\\forall_{z_i \\in Z} \\; \\forall_{z_j \\in Z} \\; n^{(a)}_{ij} = 0$ \n",
    "        - macierzy emisji $n^{(b)}$: $\\forall_{z_j \\in Z}\\; \\forall_{x_k \\in X}\\; n^{(b)}_{jk} = 0$\n",
    "    - dla każdej sekwencji obserwacji $x \\in X_{train}$:\n",
    "        - znajdź najbardziej prawdopodobną sekwencję stanów ukrytych $Z_{max}$ dla sekwencji obserwacji $x$ używając parametrów $\\theta_q$ (użyj algorytmu dekodowania Viterbiego)\n",
    "        - zaktualizuj liczniki $n^{(\\pi)}$, $n^{(a)}$ oraz $n^{(b)}$ na podstawie $Z_{max}$ oraz $x$, tzn:\n",
    "            - zwiększ o jeden licznik $n^{(\\pi)}_i$ dla pierwszej obserwacji $x^{(1)} = x_i$\n",
    "            - dla każdej pary $(Z_{max}^{(t-1)} = z_i, Z_{max}^{(t)} = z_j)$ zwiększ o jeden licznik $n^{(a)}_{ij}$\n",
    "            - dla każdej pary $(Z_{max}^{(t)} = z_j, x^{(t)} = x_k)$ zwiększ o jeden licznik $n^{(b)}_{jk}$\n",
    "    - oblicz nowe parametry $\\theta_{q+1} = (\\pi, a, b)$ normalizując liczniki $n^{(\\pi)}$, $n^{(a)}$, $n^{(b)}$\n",
    "    \n",
    "    $$\\pi_i = \\frac{n^{(\\pi)}_i}{\\sum_{z_j \\in Z} n^{(\\pi)}_j}$$\n",
    "    \n",
    "    $$a_{ij} = \\frac{n^{(a)}_{ij}}{\\sum_{z_k \\in Z} n^{(a)}_{ik}}$$\n",
    "\n",
    "    $$b_{jk} = \\frac{n^{(b)}_{jk}}{\\sum_{x_p \\in X} n^{(b)}_{jp}}$$\n",
    "    - $q = q + 1$\n",
    "3. Zwróć model z parametrami $\\theta_{q_{max}}$\n",
    "\n",
    "\n",
    "Jako kryterium zatrzymania będziemy używać dwóch warunków (zatrzymaj jeśli którykolwiek niespełniony):\n",
    "- maksymalna liczba iteracji (epok);  \n",
    "$$q < max\\_epochs$$\n",
    "- zmiana wartości parametrów jest mniejsza niż zadany próg; \n",
    "$$(\\theta_{q+1} - \\theta_q)^2 > \\epsilon$$"
   ]
  },
  {
   "cell_type": "markdown",
   "metadata": {},
   "source": [
    "# Zadanie 3 (1.5 pkt.)\n",
    "Zaimplementuj algorythm Viterbiego (uczenie) zgodnie z powyższym opisem."
   ]
  },
  {
   "cell_type": "code",
   "execution_count": 23,
   "metadata": {},
   "outputs": [],
   "source": [
    "def parameter_loss(prev_theta, theta):\n",
    "    if prev_theta == (None, None, None):\n",
    "        return 1\n",
    "\n",
    "    prev_pi, prev_tr, prev_em = prev_theta\n",
    "    pi, tr, em = theta\n",
    "\n",
    "    loss = 0\n",
    "\n",
    "    # Initial dist loss\n",
    "    for k in prev_pi.keys():\n",
    "        loss += (prev_pi[k] - pi[k]) ** 2\n",
    "\n",
    "    # Transition prob. loss\n",
    "    for k in prev_tr.keys():\n",
    "        loss += (prev_tr[k] - tr[k]) ** 2\n",
    "\n",
    "    # Emission prob. loss\n",
    "    for k in prev_em.keys():\n",
    "        loss += (prev_em[k] - em[k]) ** 2\n",
    "\n",
    "    return loss"
   ]
  },
  {
   "cell_type": "code",
   "execution_count": 24,
   "metadata": {},
   "outputs": [],
   "source": [
    "def test_hmm(hmm, X):\n",
    "    return logsumexp([\n",
    "        score_observation_sequence(hmm=hmm, X=x)[0]\n",
    "        for x in X\n",
    "    ]) - np.log(len(X))\n",
    "\n",
    "\n",
    "def training_plots(hmm, losses, probas, X_test):\n",
    "    fig, ax = plt.subplots(ncols=2, figsize=(15, 4))\n",
    "    ax[0].plot(range(len(losses)), losses, marker='x', linestyle='--')\n",
    "    ax[0].set_xlabel('Epoch')\n",
    "    ax[0].set_ylabel('Loss')\n",
    "\n",
    "    ax[1].plot(range(len(probas)), probas, marker='x', linestyle='--', label='Train')\n",
    "    ax[1].set_xlabel('Epoch')\n",
    "    ax[1].set_ylabel('Train log-prob')\n",
    "\n",
    "    logp = test_hmm(hmm=hmm, X=X_test)\n",
    "    print(f'Test log-p: {logp}')\n",
    "    ax[1].axhline(logp, linestyle='--', color='r', label='Test')\n",
    "    ax[1].legend()\n"
   ]
  },
  {
   "cell_type": "code",
   "execution_count": 25,
   "metadata": {
    "deletable": false,
    "nbgrader": {
     "cell_type": "code",
     "checksum": "d0f7eeffd7beee976855fe01c0663bee",
     "grade": false,
     "grade_id": "viterbi-learning",
     "locked": false,
     "schema_version": 3,
     "solution": true,
     "task": false
    }
   },
   "outputs": [],
   "source": [
    "from collections import defaultdict\n",
    "from copy import deepcopy\n",
    "\n",
    "\n",
    "def fit_viterbi(\n",
    "    hmm: HMM, \n",
    "    X_train: List[List[str]], \n",
    "    smoothing: int = 1,\n",
    "    eps: float = 1e-4, \n",
    "    max_epochs: int = 30, \n",
    "    verbose: bool = True,\n",
    ") -> Dict[str, List[float]]:\n",
    "    \"\"\"Estimates the model's parameters using Viterbi learning algorithm.\"\"\"\n",
    "    prev_theta = (None, None, None)\n",
    "\n",
    "    logs = {\n",
    "        'losses': [],\n",
    "        'probas': [],\n",
    "    }\n",
    "\n",
    "    for epoch in tqdm(\n",
    "        iterable=range(max_epochs), \n",
    "        desc='Epochs',\n",
    "        disable=not verbose,\n",
    "    ):\n",
    "        # Update params\n",
    "        prev_theta = hmm.theta\n",
    "        hmm.theta = estimate_parameters(hmm, X_train, smoothing=smoothing)\n",
    "\n",
    "        # Compute loss\n",
    "        loss = parameter_loss(prev_theta, hmm.theta)\n",
    "        probas = logsumexp([\n",
    "            score_observation_sequence(hmm=hmm, X=x)[0]\n",
    "            for x in X_train\n",
    "        ]) - np.log(len(X_train))\n",
    "\n",
    "        logs['losses'].append(loss)\n",
    "        logs['probas'].append(probas)\n",
    "\n",
    "        # Logging\n",
    "        if verbose:\n",
    "            print(f'Epoch: {epoch} => '\n",
    "                  f'Loss: {np.round(loss, 5)}, '\n",
    "                  f'Log-prob: {probas}')\n",
    "\n",
    "        # Stopping condition\n",
    "        if loss < eps:\n",
    "            break\n",
    "    \n",
    "    return logs\n",
    "\n",
    "\n",
    "\n",
    "def estimate_parameters(hmm: HMM, X_train: List[List[str]], smoothing: int):\n",
    "    \"\"\"Estimate parameters of the HMM usng Viterbi algorithm.\n",
    "\n",
    "    :param hmm: Hidden Markov Model object.\n",
    "    :param X: Sequence of elements of length T.\n",
    "    :return: Tuple of parameters of the HMM: initial state probability pi,\n",
    "        transition probability matrix a, and emission probabiliy matrix b.\n",
    "    \"\"\"\n",
    "    # TU WPISZ KOD\n",
    "    # raise NotImplementedError()\n",
    "\n",
    "    pi, tr, em = deepcopy(hmm.theta)\n",
    "    Z = list(pi.keys())  # hidden states\n",
    "\n",
    "    pi_counter = defaultdict(lambda: smoothing)\n",
    "    tr_counter = defaultdict(lambda: smoothing)\n",
    "    em_counter = defaultdict(lambda: smoothing)\n",
    "\n",
    "    for x in X_train:\n",
    "        max_Z, _ = viterbi_decode(hmm, x)\n",
    "        T = len(max_Z)\n",
    "        for t in range(T):\n",
    "            if t == 0:  # only for first observation\n",
    "                pi_counter[max_Z[t]] += 1\n",
    "            else:  # since first t-1 comes when t=1 \n",
    "                tr_counter[(max_Z[t-1], max_Z[t])] += 1\n",
    "            em_counter[(x[t], max_Z[t])] += 1\n",
    "\n",
    "    # pi (π)\n",
    "    pi_sum = sum(pi_counter.values())\n",
    "    for key in pi.keys():\n",
    "        pi[key] = pi_counter[key] / pi_sum\n",
    "\n",
    "    # tr (a)\n",
    "    tr_sums = defaultdict(lambda: 0)\n",
    "    for key, count in tr_counter.items():\n",
    "        tr_sums[key[0]] += count\n",
    "    for key in tr.keys():\n",
    "        tr[key] = tr_counter[key] / tr_sums[key[0]]\n",
    "\n",
    "    # en (b)\n",
    "    em_sums = defaultdict(lambda: 0)\n",
    "    for key, count in em_counter.items():\n",
    "        em_sums[key[1]] += count\n",
    "    for key in em.keys():\n",
    "        em[key] = em_counter[key] / em_sums[key[1]]\n",
    "    \n",
    "    return pi, tr, em"
   ]
  },
  {
   "cell_type": "code",
   "execution_count": 26,
   "metadata": {
    "deletable": false,
    "editable": false,
    "nbgrader": {
     "cell_type": "code",
     "checksum": "1cf6c3151ea394bb98669a8c026a8888",
     "grade": true,
     "grade_id": "viterbi-learning-tests",
     "locked": true,
     "points": 1.5,
     "schema_version": 3,
     "solution": false,
     "task": false
    }
   },
   "outputs": [],
   "source": [
    "# testy ukryte\n"
   ]
  },
  {
   "cell_type": "code",
   "execution_count": 27,
   "metadata": {},
   "outputs": [
    {
     "output_type": "display_data",
     "data": {
      "text/plain": "                 $$z^{(0)} = H$$ $$z^{(0)} = L$$\n$$P(z^{{(0)}})$$        0.474799        0.525201",
      "text/html": "<div>\n<style scoped>\n    .dataframe tbody tr th:only-of-type {\n        vertical-align: middle;\n    }\n\n    .dataframe tbody tr th {\n        vertical-align: top;\n    }\n\n    .dataframe thead th {\n        text-align: right;\n    }\n</style>\n<table border=\"1\" class=\"dataframe\">\n  <thead>\n    <tr style=\"text-align: right;\">\n      <th></th>\n      <th>$$z^{(0)} = H$$</th>\n      <th>$$z^{(0)} = L$$</th>\n    </tr>\n  </thead>\n  <tbody>\n    <tr>\n      <th>$$P(z^{{(0)}})$$</th>\n      <td>0.474799</td>\n      <td>0.525201</td>\n    </tr>\n  </tbody>\n</table>\n</div>"
     },
     "metadata": {}
    },
    {
     "output_type": "display_data",
     "data": {
      "text/plain": "                  $$z^{(t)} = H$$ $$z^{(t)} = L$$\n$$z^{(t-1)} = H$$        0.369235        0.630765\n$$z^{(t-1)} = L$$         0.12095         0.87905",
      "text/html": "<div>\n<style scoped>\n    .dataframe tbody tr th:only-of-type {\n        vertical-align: middle;\n    }\n\n    .dataframe tbody tr th {\n        vertical-align: top;\n    }\n\n    .dataframe thead th {\n        text-align: right;\n    }\n</style>\n<table border=\"1\" class=\"dataframe\">\n  <thead>\n    <tr style=\"text-align: right;\">\n      <th></th>\n      <th>$$z^{(t)} = H$$</th>\n      <th>$$z^{(t)} = L$$</th>\n    </tr>\n  </thead>\n  <tbody>\n    <tr>\n      <th>$$z^{(t-1)} = H$$</th>\n      <td>0.369235</td>\n      <td>0.630765</td>\n    </tr>\n    <tr>\n      <th>$$z^{(t-1)} = L$$</th>\n      <td>0.12095</td>\n      <td>0.87905</td>\n    </tr>\n  </tbody>\n</table>\n</div>"
     },
     "metadata": {}
    },
    {
     "output_type": "display_data",
     "data": {
      "text/plain": "                $$z^{(t)} = H$$ $$z^{(t)} = L$$\n$$x^{(t)} = A$$        0.138502        0.515036\n$$x^{(t)} = C$$        0.354324        0.135602\n$$x^{(t)} = G$$        0.098462        0.121769\n$$x^{(t)} = T$$        0.408712        0.227594",
      "text/html": "<div>\n<style scoped>\n    .dataframe tbody tr th:only-of-type {\n        vertical-align: middle;\n    }\n\n    .dataframe tbody tr th {\n        vertical-align: top;\n    }\n\n    .dataframe thead th {\n        text-align: right;\n    }\n</style>\n<table border=\"1\" class=\"dataframe\">\n  <thead>\n    <tr style=\"text-align: right;\">\n      <th></th>\n      <th>$$z^{(t)} = H$$</th>\n      <th>$$z^{(t)} = L$$</th>\n    </tr>\n  </thead>\n  <tbody>\n    <tr>\n      <th>$$x^{(t)} = A$$</th>\n      <td>0.138502</td>\n      <td>0.515036</td>\n    </tr>\n    <tr>\n      <th>$$x^{(t)} = C$$</th>\n      <td>0.354324</td>\n      <td>0.135602</td>\n    </tr>\n    <tr>\n      <th>$$x^{(t)} = G$$</th>\n      <td>0.098462</td>\n      <td>0.121769</td>\n    </tr>\n    <tr>\n      <th>$$x^{(t)} = T$$</th>\n      <td>0.408712</td>\n      <td>0.227594</td>\n    </tr>\n  </tbody>\n</table>\n</div>"
     },
     "metadata": {}
    }
   ],
   "source": [
    "# HERE: zmień jeśli chcesz przeanalizować inne dane\n",
    "hmm_viterbi = get_uninitialized_gene_hmm()\n",
    "# hmm_viterbi = get_uninitialized_weather_hmm()\n",
    "\n",
    "hmm_basic_info(hmm_viterbi)"
   ]
  },
  {
   "cell_type": "code",
   "execution_count": 28,
   "metadata": {},
   "outputs": [
    {
     "output_type": "stream",
     "name": "stderr",
     "text": [
      "Epochs:   3%|▎         | 1/30 [00:00<00:18,  1.56it/s]Epoch: 0 => Loss: 0.19974, Log-prob: -13.837540040967465\n",
      "Epochs:   3%|▎         | 1/30 [00:01<00:29,  1.03s/it]Epoch: 1 => Loss: 0.0, Log-prob: -13.837540040967465\n",
      "\n"
     ]
    },
    {
     "output_type": "display_data",
     "data": {
      "text/plain": "                 $$z^{(0)} = H$$ $$z^{(0)} = L$$\n$$P(z^{{(0)}})$$         0.48005         0.51995",
      "text/html": "<div>\n<style scoped>\n    .dataframe tbody tr th:only-of-type {\n        vertical-align: middle;\n    }\n\n    .dataframe tbody tr th {\n        vertical-align: top;\n    }\n\n    .dataframe thead th {\n        text-align: right;\n    }\n</style>\n<table border=\"1\" class=\"dataframe\">\n  <thead>\n    <tr style=\"text-align: right;\">\n      <th></th>\n      <th>$$z^{(0)} = H$$</th>\n      <th>$$z^{(0)} = L$$</th>\n    </tr>\n  </thead>\n  <tbody>\n    <tr>\n      <th>$$P(z^{{(0)}})$$</th>\n      <td>0.48005</td>\n      <td>0.51995</td>\n    </tr>\n  </tbody>\n</table>\n</div>"
     },
     "metadata": {}
    },
    {
     "output_type": "display_data",
     "data": {
      "text/plain": "                  $$z^{(t)} = H$$ $$z^{(t)} = L$$\n$$z^{(t-1)} = H$$        0.503234        0.496766\n$$z^{(t-1)} = L$$        0.000156             1.0",
      "text/html": "<div>\n<style scoped>\n    .dataframe tbody tr th:only-of-type {\n        vertical-align: middle;\n    }\n\n    .dataframe tbody tr th {\n        vertical-align: top;\n    }\n\n    .dataframe thead th {\n        text-align: right;\n    }\n</style>\n<table border=\"1\" class=\"dataframe\">\n  <thead>\n    <tr style=\"text-align: right;\">\n      <th></th>\n      <th>$$z^{(t)} = H$$</th>\n      <th>$$z^{(t)} = L$$</th>\n    </tr>\n  </thead>\n  <tbody>\n    <tr>\n      <th>$$z^{(t-1)} = H$$</th>\n      <td>0.503234</td>\n      <td>0.496766</td>\n    </tr>\n    <tr>\n      <th>$$z^{(t-1)} = L$$</th>\n      <td>0.000156</td>\n      <td>1.0</td>\n    </tr>\n  </tbody>\n</table>\n</div>"
     },
     "metadata": {}
    },
    {
     "output_type": "display_data",
     "data": {
      "text/plain": "                $$z^{(t)} = H$$ $$z^{(t)} = L$$\n$$x^{(t)} = A$$        0.001292        0.295769\n$$x^{(t)} = C$$        0.511628         0.21958\n$$x^{(t)} = G$$        0.001292        0.263274\n$$x^{(t)} = T$$        0.488372        0.221377",
      "text/html": "<div>\n<style scoped>\n    .dataframe tbody tr th:only-of-type {\n        vertical-align: middle;\n    }\n\n    .dataframe tbody tr th {\n        vertical-align: top;\n    }\n\n    .dataframe thead th {\n        text-align: right;\n    }\n</style>\n<table border=\"1\" class=\"dataframe\">\n  <thead>\n    <tr style=\"text-align: right;\">\n      <th></th>\n      <th>$$z^{(t)} = H$$</th>\n      <th>$$z^{(t)} = L$$</th>\n    </tr>\n  </thead>\n  <tbody>\n    <tr>\n      <th>$$x^{(t)} = A$$</th>\n      <td>0.001292</td>\n      <td>0.295769</td>\n    </tr>\n    <tr>\n      <th>$$x^{(t)} = C$$</th>\n      <td>0.511628</td>\n      <td>0.21958</td>\n    </tr>\n    <tr>\n      <th>$$x^{(t)} = G$$</th>\n      <td>0.001292</td>\n      <td>0.263274</td>\n    </tr>\n    <tr>\n      <th>$$x^{(t)} = T$$</th>\n      <td>0.488372</td>\n      <td>0.221377</td>\n    </tr>\n  </tbody>\n</table>\n</div>"
     },
     "metadata": {}
    },
    {
     "output_type": "stream",
     "name": "stdout",
     "text": [
      "Test log-p: -13.919234379576839\n"
     ]
    },
    {
     "output_type": "display_data",
     "data": {
      "text/plain": "<Figure size 1080x288 with 2 Axes>",
      "image/svg+xml": "<?xml version=\"1.0\" encoding=\"utf-8\" standalone=\"no\"?>\n<!DOCTYPE svg PUBLIC \"-//W3C//DTD SVG 1.1//EN\"\n  \"http://www.w3.org/Graphics/SVG/1.1/DTD/svg11.dtd\">\n<!-- Created with matplotlib (https://matplotlib.org/) -->\n<svg height=\"262.19625pt\" version=\"1.1\" viewBox=\"0 0 900.70625 262.19625\" width=\"900.70625pt\" xmlns=\"http://www.w3.org/2000/svg\" xmlns:xlink=\"http://www.w3.org/1999/xlink\">\n <metadata>\n  <rdf:RDF xmlns:cc=\"http://creativecommons.org/ns#\" xmlns:dc=\"http://purl.org/dc/elements/1.1/\" xmlns:rdf=\"http://www.w3.org/1999/02/22-rdf-syntax-ns#\">\n   <cc:Work>\n    <dc:type rdf:resource=\"http://purl.org/dc/dcmitype/StillImage\"/>\n    <dc:date>2021-05-20T10:31:15.863805</dc:date>\n    <dc:format>image/svg+xml</dc:format>\n    <dc:creator>\n     <cc:Agent>\n      <dc:title>Matplotlib v3.3.4, https://matplotlib.org/</dc:title>\n     </cc:Agent>\n    </dc:creator>\n   </cc:Work>\n  </rdf:RDF>\n </metadata>\n <defs>\n  <style type=\"text/css\">*{stroke-linecap:butt;stroke-linejoin:round;}</style>\n </defs>\n <g id=\"figure_1\">\n  <g id=\"patch_1\">\n   <path d=\"M 0 262.19625 \nL 900.70625 262.19625 \nL 900.70625 0 \nL 0 0 \nz\n\" style=\"fill:none;\"/>\n  </g>\n  <g id=\"axes_1\">\n   <g id=\"patch_2\">\n    <path d=\"M 56.50625 224.64 \nL 436.960795 224.64 \nL 436.960795 7.2 \nL 56.50625 7.2 \nz\n\" style=\"fill:#ffffff;\"/>\n   </g>\n   <g id=\"matplotlib.axis_1\">\n    <g id=\"xtick_1\">\n     <g id=\"line2d_1\">\n      <defs>\n       <path d=\"M 0 0 \nL 0 3.5 \n\" id=\"m38e80e6093\" style=\"stroke:#000000;stroke-width:0.8;\"/>\n      </defs>\n      <g>\n       <use style=\"stroke:#000000;stroke-width:0.8;\" x=\"73.799638\" xlink:href=\"#m38e80e6093\" y=\"224.64\"/>\n      </g>\n     </g>\n     <g id=\"text_1\">\n      <!-- 0.0 -->\n      <g transform=\"translate(65.848076 239.238438)scale(0.1 -0.1)\">\n       <defs>\n        <path d=\"M 31.78125 66.40625 \nQ 24.171875 66.40625 20.328125 58.90625 \nQ 16.5 51.421875 16.5 36.375 \nQ 16.5 21.390625 20.328125 13.890625 \nQ 24.171875 6.390625 31.78125 6.390625 \nQ 39.453125 6.390625 43.28125 13.890625 \nQ 47.125 21.390625 47.125 36.375 \nQ 47.125 51.421875 43.28125 58.90625 \nQ 39.453125 66.40625 31.78125 66.40625 \nz\nM 31.78125 74.21875 \nQ 44.046875 74.21875 50.515625 64.515625 \nQ 56.984375 54.828125 56.984375 36.375 \nQ 56.984375 17.96875 50.515625 8.265625 \nQ 44.046875 -1.421875 31.78125 -1.421875 \nQ 19.53125 -1.421875 13.0625 8.265625 \nQ 6.59375 17.96875 6.59375 36.375 \nQ 6.59375 54.828125 13.0625 64.515625 \nQ 19.53125 74.21875 31.78125 74.21875 \nz\n\" id=\"DejaVuSans-48\"/>\n        <path d=\"M 10.6875 12.40625 \nL 21 12.40625 \nL 21 0 \nL 10.6875 0 \nz\n\" id=\"DejaVuSans-46\"/>\n       </defs>\n       <use xlink:href=\"#DejaVuSans-48\"/>\n       <use x=\"63.623047\" xlink:href=\"#DejaVuSans-46\"/>\n       <use x=\"95.410156\" xlink:href=\"#DejaVuSans-48\"/>\n      </g>\n     </g>\n    </g>\n    <g id=\"xtick_2\">\n     <g id=\"line2d_2\">\n      <g>\n       <use style=\"stroke:#000000;stroke-width:0.8;\" x=\"142.973192\" xlink:href=\"#m38e80e6093\" y=\"224.64\"/>\n      </g>\n     </g>\n     <g id=\"text_2\">\n      <!-- 0.2 -->\n      <g transform=\"translate(135.02163 239.238438)scale(0.1 -0.1)\">\n       <defs>\n        <path d=\"M 19.1875 8.296875 \nL 53.609375 8.296875 \nL 53.609375 0 \nL 7.328125 0 \nL 7.328125 8.296875 \nQ 12.9375 14.109375 22.625 23.890625 \nQ 32.328125 33.6875 34.8125 36.53125 \nQ 39.546875 41.84375 41.421875 45.53125 \nQ 43.3125 49.21875 43.3125 52.78125 \nQ 43.3125 58.59375 39.234375 62.25 \nQ 35.15625 65.921875 28.609375 65.921875 \nQ 23.96875 65.921875 18.8125 64.3125 \nQ 13.671875 62.703125 7.8125 59.421875 \nL 7.8125 69.390625 \nQ 13.765625 71.78125 18.9375 73 \nQ 24.125 74.21875 28.421875 74.21875 \nQ 39.75 74.21875 46.484375 68.546875 \nQ 53.21875 62.890625 53.21875 53.421875 \nQ 53.21875 48.921875 51.53125 44.890625 \nQ 49.859375 40.875 45.40625 35.40625 \nQ 44.1875 33.984375 37.640625 27.21875 \nQ 31.109375 20.453125 19.1875 8.296875 \nz\n\" id=\"DejaVuSans-50\"/>\n       </defs>\n       <use xlink:href=\"#DejaVuSans-48\"/>\n       <use x=\"63.623047\" xlink:href=\"#DejaVuSans-46\"/>\n       <use x=\"95.410156\" xlink:href=\"#DejaVuSans-50\"/>\n      </g>\n     </g>\n    </g>\n    <g id=\"xtick_3\">\n     <g id=\"line2d_3\">\n      <g>\n       <use style=\"stroke:#000000;stroke-width:0.8;\" x=\"212.146746\" xlink:href=\"#m38e80e6093\" y=\"224.64\"/>\n      </g>\n     </g>\n     <g id=\"text_3\">\n      <!-- 0.4 -->\n      <g transform=\"translate(204.195183 239.238438)scale(0.1 -0.1)\">\n       <defs>\n        <path d=\"M 37.796875 64.3125 \nL 12.890625 25.390625 \nL 37.796875 25.390625 \nz\nM 35.203125 72.90625 \nL 47.609375 72.90625 \nL 47.609375 25.390625 \nL 58.015625 25.390625 \nL 58.015625 17.1875 \nL 47.609375 17.1875 \nL 47.609375 0 \nL 37.796875 0 \nL 37.796875 17.1875 \nL 4.890625 17.1875 \nL 4.890625 26.703125 \nz\n\" id=\"DejaVuSans-52\"/>\n       </defs>\n       <use xlink:href=\"#DejaVuSans-48\"/>\n       <use x=\"63.623047\" xlink:href=\"#DejaVuSans-46\"/>\n       <use x=\"95.410156\" xlink:href=\"#DejaVuSans-52\"/>\n      </g>\n     </g>\n    </g>\n    <g id=\"xtick_4\">\n     <g id=\"line2d_4\">\n      <g>\n       <use style=\"stroke:#000000;stroke-width:0.8;\" x=\"281.3203\" xlink:href=\"#m38e80e6093\" y=\"224.64\"/>\n      </g>\n     </g>\n     <g id=\"text_4\">\n      <!-- 0.6 -->\n      <g transform=\"translate(273.368737 239.238438)scale(0.1 -0.1)\">\n       <defs>\n        <path d=\"M 33.015625 40.375 \nQ 26.375 40.375 22.484375 35.828125 \nQ 18.609375 31.296875 18.609375 23.390625 \nQ 18.609375 15.53125 22.484375 10.953125 \nQ 26.375 6.390625 33.015625 6.390625 \nQ 39.65625 6.390625 43.53125 10.953125 \nQ 47.40625 15.53125 47.40625 23.390625 \nQ 47.40625 31.296875 43.53125 35.828125 \nQ 39.65625 40.375 33.015625 40.375 \nz\nM 52.59375 71.296875 \nL 52.59375 62.3125 \nQ 48.875 64.0625 45.09375 64.984375 \nQ 41.3125 65.921875 37.59375 65.921875 \nQ 27.828125 65.921875 22.671875 59.328125 \nQ 17.53125 52.734375 16.796875 39.40625 \nQ 19.671875 43.65625 24.015625 45.921875 \nQ 28.375 48.1875 33.59375 48.1875 \nQ 44.578125 48.1875 50.953125 41.515625 \nQ 57.328125 34.859375 57.328125 23.390625 \nQ 57.328125 12.15625 50.6875 5.359375 \nQ 44.046875 -1.421875 33.015625 -1.421875 \nQ 20.359375 -1.421875 13.671875 8.265625 \nQ 6.984375 17.96875 6.984375 36.375 \nQ 6.984375 53.65625 15.1875 63.9375 \nQ 23.390625 74.21875 37.203125 74.21875 \nQ 40.921875 74.21875 44.703125 73.484375 \nQ 48.484375 72.75 52.59375 71.296875 \nz\n\" id=\"DejaVuSans-54\"/>\n       </defs>\n       <use xlink:href=\"#DejaVuSans-48\"/>\n       <use x=\"63.623047\" xlink:href=\"#DejaVuSans-46\"/>\n       <use x=\"95.410156\" xlink:href=\"#DejaVuSans-54\"/>\n      </g>\n     </g>\n    </g>\n    <g id=\"xtick_5\">\n     <g id=\"line2d_5\">\n      <g>\n       <use style=\"stroke:#000000;stroke-width:0.8;\" x=\"350.493853\" xlink:href=\"#m38e80e6093\" y=\"224.64\"/>\n      </g>\n     </g>\n     <g id=\"text_5\">\n      <!-- 0.8 -->\n      <g transform=\"translate(342.542291 239.238438)scale(0.1 -0.1)\">\n       <defs>\n        <path d=\"M 31.78125 34.625 \nQ 24.75 34.625 20.71875 30.859375 \nQ 16.703125 27.09375 16.703125 20.515625 \nQ 16.703125 13.921875 20.71875 10.15625 \nQ 24.75 6.390625 31.78125 6.390625 \nQ 38.8125 6.390625 42.859375 10.171875 \nQ 46.921875 13.96875 46.921875 20.515625 \nQ 46.921875 27.09375 42.890625 30.859375 \nQ 38.875 34.625 31.78125 34.625 \nz\nM 21.921875 38.8125 \nQ 15.578125 40.375 12.03125 44.71875 \nQ 8.5 49.078125 8.5 55.328125 \nQ 8.5 64.0625 14.71875 69.140625 \nQ 20.953125 74.21875 31.78125 74.21875 \nQ 42.671875 74.21875 48.875 69.140625 \nQ 55.078125 64.0625 55.078125 55.328125 \nQ 55.078125 49.078125 51.53125 44.71875 \nQ 48 40.375 41.703125 38.8125 \nQ 48.828125 37.15625 52.796875 32.3125 \nQ 56.78125 27.484375 56.78125 20.515625 \nQ 56.78125 9.90625 50.3125 4.234375 \nQ 43.84375 -1.421875 31.78125 -1.421875 \nQ 19.734375 -1.421875 13.25 4.234375 \nQ 6.78125 9.90625 6.78125 20.515625 \nQ 6.78125 27.484375 10.78125 32.3125 \nQ 14.796875 37.15625 21.921875 38.8125 \nz\nM 18.3125 54.390625 \nQ 18.3125 48.734375 21.84375 45.5625 \nQ 25.390625 42.390625 31.78125 42.390625 \nQ 38.140625 42.390625 41.71875 45.5625 \nQ 45.3125 48.734375 45.3125 54.390625 \nQ 45.3125 60.0625 41.71875 63.234375 \nQ 38.140625 66.40625 31.78125 66.40625 \nQ 25.390625 66.40625 21.84375 63.234375 \nQ 18.3125 60.0625 18.3125 54.390625 \nz\n\" id=\"DejaVuSans-56\"/>\n       </defs>\n       <use xlink:href=\"#DejaVuSans-48\"/>\n       <use x=\"63.623047\" xlink:href=\"#DejaVuSans-46\"/>\n       <use x=\"95.410156\" xlink:href=\"#DejaVuSans-56\"/>\n      </g>\n     </g>\n    </g>\n    <g id=\"xtick_6\">\n     <g id=\"line2d_6\">\n      <g>\n       <use style=\"stroke:#000000;stroke-width:0.8;\" x=\"419.667407\" xlink:href=\"#m38e80e6093\" y=\"224.64\"/>\n      </g>\n     </g>\n     <g id=\"text_6\">\n      <!-- 1.0 -->\n      <g transform=\"translate(411.715845 239.238438)scale(0.1 -0.1)\">\n       <defs>\n        <path d=\"M 12.40625 8.296875 \nL 28.515625 8.296875 \nL 28.515625 63.921875 \nL 10.984375 60.40625 \nL 10.984375 69.390625 \nL 28.421875 72.90625 \nL 38.28125 72.90625 \nL 38.28125 8.296875 \nL 54.390625 8.296875 \nL 54.390625 0 \nL 12.40625 0 \nz\n\" id=\"DejaVuSans-49\"/>\n       </defs>\n       <use xlink:href=\"#DejaVuSans-49\"/>\n       <use x=\"63.623047\" xlink:href=\"#DejaVuSans-46\"/>\n       <use x=\"95.410156\" xlink:href=\"#DejaVuSans-48\"/>\n      </g>\n     </g>\n    </g>\n    <g id=\"text_7\">\n     <!-- Epoch -->\n     <g transform=\"translate(231.422585 252.916563)scale(0.1 -0.1)\">\n      <defs>\n       <path d=\"M 9.8125 72.90625 \nL 55.90625 72.90625 \nL 55.90625 64.59375 \nL 19.671875 64.59375 \nL 19.671875 43.015625 \nL 54.390625 43.015625 \nL 54.390625 34.71875 \nL 19.671875 34.71875 \nL 19.671875 8.296875 \nL 56.78125 8.296875 \nL 56.78125 0 \nL 9.8125 0 \nz\n\" id=\"DejaVuSans-69\"/>\n       <path d=\"M 18.109375 8.203125 \nL 18.109375 -20.796875 \nL 9.078125 -20.796875 \nL 9.078125 54.6875 \nL 18.109375 54.6875 \nL 18.109375 46.390625 \nQ 20.953125 51.265625 25.265625 53.625 \nQ 29.59375 56 35.59375 56 \nQ 45.5625 56 51.78125 48.09375 \nQ 58.015625 40.1875 58.015625 27.296875 \nQ 58.015625 14.40625 51.78125 6.484375 \nQ 45.5625 -1.421875 35.59375 -1.421875 \nQ 29.59375 -1.421875 25.265625 0.953125 \nQ 20.953125 3.328125 18.109375 8.203125 \nz\nM 48.6875 27.296875 \nQ 48.6875 37.203125 44.609375 42.84375 \nQ 40.53125 48.484375 33.40625 48.484375 \nQ 26.265625 48.484375 22.1875 42.84375 \nQ 18.109375 37.203125 18.109375 27.296875 \nQ 18.109375 17.390625 22.1875 11.75 \nQ 26.265625 6.109375 33.40625 6.109375 \nQ 40.53125 6.109375 44.609375 11.75 \nQ 48.6875 17.390625 48.6875 27.296875 \nz\n\" id=\"DejaVuSans-112\"/>\n       <path d=\"M 30.609375 48.390625 \nQ 23.390625 48.390625 19.1875 42.75 \nQ 14.984375 37.109375 14.984375 27.296875 \nQ 14.984375 17.484375 19.15625 11.84375 \nQ 23.34375 6.203125 30.609375 6.203125 \nQ 37.796875 6.203125 41.984375 11.859375 \nQ 46.1875 17.53125 46.1875 27.296875 \nQ 46.1875 37.015625 41.984375 42.703125 \nQ 37.796875 48.390625 30.609375 48.390625 \nz\nM 30.609375 56 \nQ 42.328125 56 49.015625 48.375 \nQ 55.71875 40.765625 55.71875 27.296875 \nQ 55.71875 13.875 49.015625 6.21875 \nQ 42.328125 -1.421875 30.609375 -1.421875 \nQ 18.84375 -1.421875 12.171875 6.21875 \nQ 5.515625 13.875 5.515625 27.296875 \nQ 5.515625 40.765625 12.171875 48.375 \nQ 18.84375 56 30.609375 56 \nz\n\" id=\"DejaVuSans-111\"/>\n       <path d=\"M 48.78125 52.59375 \nL 48.78125 44.1875 \nQ 44.96875 46.296875 41.140625 47.34375 \nQ 37.3125 48.390625 33.40625 48.390625 \nQ 24.65625 48.390625 19.8125 42.84375 \nQ 14.984375 37.3125 14.984375 27.296875 \nQ 14.984375 17.28125 19.8125 11.734375 \nQ 24.65625 6.203125 33.40625 6.203125 \nQ 37.3125 6.203125 41.140625 7.25 \nQ 44.96875 8.296875 48.78125 10.40625 \nL 48.78125 2.09375 \nQ 45.015625 0.34375 40.984375 -0.53125 \nQ 36.96875 -1.421875 32.421875 -1.421875 \nQ 20.0625 -1.421875 12.78125 6.34375 \nQ 5.515625 14.109375 5.515625 27.296875 \nQ 5.515625 40.671875 12.859375 48.328125 \nQ 20.21875 56 33.015625 56 \nQ 37.15625 56 41.109375 55.140625 \nQ 45.0625 54.296875 48.78125 52.59375 \nz\n\" id=\"DejaVuSans-99\"/>\n       <path d=\"M 54.890625 33.015625 \nL 54.890625 0 \nL 45.90625 0 \nL 45.90625 32.71875 \nQ 45.90625 40.484375 42.875 44.328125 \nQ 39.84375 48.1875 33.796875 48.1875 \nQ 26.515625 48.1875 22.3125 43.546875 \nQ 18.109375 38.921875 18.109375 30.90625 \nL 18.109375 0 \nL 9.078125 0 \nL 9.078125 75.984375 \nL 18.109375 75.984375 \nL 18.109375 46.1875 \nQ 21.34375 51.125 25.703125 53.5625 \nQ 30.078125 56 35.796875 56 \nQ 45.21875 56 50.046875 50.171875 \nQ 54.890625 44.34375 54.890625 33.015625 \nz\n\" id=\"DejaVuSans-104\"/>\n      </defs>\n      <use xlink:href=\"#DejaVuSans-69\"/>\n      <use x=\"63.183594\" xlink:href=\"#DejaVuSans-112\"/>\n      <use x=\"126.660156\" xlink:href=\"#DejaVuSans-111\"/>\n      <use x=\"187.841797\" xlink:href=\"#DejaVuSans-99\"/>\n      <use x=\"242.822266\" xlink:href=\"#DejaVuSans-104\"/>\n     </g>\n    </g>\n   </g>\n   <g id=\"matplotlib.axis_2\">\n    <g id=\"ytick_1\">\n     <g id=\"line2d_7\">\n      <defs>\n       <path d=\"M 0 0 \nL -3.5 0 \n\" id=\"mc9b4428fe0\" style=\"stroke:#000000;stroke-width:0.8;\"/>\n      </defs>\n      <g>\n       <use style=\"stroke:#000000;stroke-width:0.8;\" x=\"56.50625\" xlink:href=\"#mc9b4428fe0\" y=\"214.756364\"/>\n      </g>\n     </g>\n     <g id=\"text_8\">\n      <!-- 0.000 -->\n      <g transform=\"translate(20.878125 218.555582)scale(0.1 -0.1)\">\n       <use xlink:href=\"#DejaVuSans-48\"/>\n       <use x=\"63.623047\" xlink:href=\"#DejaVuSans-46\"/>\n       <use x=\"95.410156\" xlink:href=\"#DejaVuSans-48\"/>\n       <use x=\"159.033203\" xlink:href=\"#DejaVuSans-48\"/>\n       <use x=\"222.65625\" xlink:href=\"#DejaVuSans-48\"/>\n      </g>\n     </g>\n    </g>\n    <g id=\"ytick_2\">\n     <g id=\"line2d_8\">\n      <g>\n       <use style=\"stroke:#000000;stroke-width:0.8;\" x=\"56.50625\" xlink:href=\"#mc9b4428fe0\" y=\"190.014882\"/>\n      </g>\n     </g>\n     <g id=\"text_9\">\n      <!-- 0.025 -->\n      <g transform=\"translate(20.878125 193.814101)scale(0.1 -0.1)\">\n       <defs>\n        <path d=\"M 10.796875 72.90625 \nL 49.515625 72.90625 \nL 49.515625 64.59375 \nL 19.828125 64.59375 \nL 19.828125 46.734375 \nQ 21.96875 47.46875 24.109375 47.828125 \nQ 26.265625 48.1875 28.421875 48.1875 \nQ 40.625 48.1875 47.75 41.5 \nQ 54.890625 34.8125 54.890625 23.390625 \nQ 54.890625 11.625 47.5625 5.09375 \nQ 40.234375 -1.421875 26.90625 -1.421875 \nQ 22.3125 -1.421875 17.546875 -0.640625 \nQ 12.796875 0.140625 7.71875 1.703125 \nL 7.71875 11.625 \nQ 12.109375 9.234375 16.796875 8.0625 \nQ 21.484375 6.890625 26.703125 6.890625 \nQ 35.15625 6.890625 40.078125 11.328125 \nQ 45.015625 15.765625 45.015625 23.390625 \nQ 45.015625 31 40.078125 35.4375 \nQ 35.15625 39.890625 26.703125 39.890625 \nQ 22.75 39.890625 18.8125 39.015625 \nQ 14.890625 38.140625 10.796875 36.28125 \nz\n\" id=\"DejaVuSans-53\"/>\n       </defs>\n       <use xlink:href=\"#DejaVuSans-48\"/>\n       <use x=\"63.623047\" xlink:href=\"#DejaVuSans-46\"/>\n       <use x=\"95.410156\" xlink:href=\"#DejaVuSans-48\"/>\n       <use x=\"159.033203\" xlink:href=\"#DejaVuSans-50\"/>\n       <use x=\"222.65625\" xlink:href=\"#DejaVuSans-53\"/>\n      </g>\n     </g>\n    </g>\n    <g id=\"ytick_3\">\n     <g id=\"line2d_9\">\n      <g>\n       <use style=\"stroke:#000000;stroke-width:0.8;\" x=\"56.50625\" xlink:href=\"#mc9b4428fe0\" y=\"165.273401\"/>\n      </g>\n     </g>\n     <g id=\"text_10\">\n      <!-- 0.050 -->\n      <g transform=\"translate(20.878125 169.07262)scale(0.1 -0.1)\">\n       <use xlink:href=\"#DejaVuSans-48\"/>\n       <use x=\"63.623047\" xlink:href=\"#DejaVuSans-46\"/>\n       <use x=\"95.410156\" xlink:href=\"#DejaVuSans-48\"/>\n       <use x=\"159.033203\" xlink:href=\"#DejaVuSans-53\"/>\n       <use x=\"222.65625\" xlink:href=\"#DejaVuSans-48\"/>\n      </g>\n     </g>\n    </g>\n    <g id=\"ytick_4\">\n     <g id=\"line2d_10\">\n      <g>\n       <use style=\"stroke:#000000;stroke-width:0.8;\" x=\"56.50625\" xlink:href=\"#mc9b4428fe0\" y=\"140.53192\"/>\n      </g>\n     </g>\n     <g id=\"text_11\">\n      <!-- 0.075 -->\n      <g transform=\"translate(20.878125 144.331139)scale(0.1 -0.1)\">\n       <defs>\n        <path d=\"M 8.203125 72.90625 \nL 55.078125 72.90625 \nL 55.078125 68.703125 \nL 28.609375 0 \nL 18.3125 0 \nL 43.21875 64.59375 \nL 8.203125 64.59375 \nz\n\" id=\"DejaVuSans-55\"/>\n       </defs>\n       <use xlink:href=\"#DejaVuSans-48\"/>\n       <use x=\"63.623047\" xlink:href=\"#DejaVuSans-46\"/>\n       <use x=\"95.410156\" xlink:href=\"#DejaVuSans-48\"/>\n       <use x=\"159.033203\" xlink:href=\"#DejaVuSans-55\"/>\n       <use x=\"222.65625\" xlink:href=\"#DejaVuSans-53\"/>\n      </g>\n     </g>\n    </g>\n    <g id=\"ytick_5\">\n     <g id=\"line2d_11\">\n      <g>\n       <use style=\"stroke:#000000;stroke-width:0.8;\" x=\"56.50625\" xlink:href=\"#mc9b4428fe0\" y=\"115.790439\"/>\n      </g>\n     </g>\n     <g id=\"text_12\">\n      <!-- 0.100 -->\n      <g transform=\"translate(20.878125 119.589658)scale(0.1 -0.1)\">\n       <use xlink:href=\"#DejaVuSans-48\"/>\n       <use x=\"63.623047\" xlink:href=\"#DejaVuSans-46\"/>\n       <use x=\"95.410156\" xlink:href=\"#DejaVuSans-49\"/>\n       <use x=\"159.033203\" xlink:href=\"#DejaVuSans-48\"/>\n       <use x=\"222.65625\" xlink:href=\"#DejaVuSans-48\"/>\n      </g>\n     </g>\n    </g>\n    <g id=\"ytick_6\">\n     <g id=\"line2d_12\">\n      <g>\n       <use style=\"stroke:#000000;stroke-width:0.8;\" x=\"56.50625\" xlink:href=\"#mc9b4428fe0\" y=\"91.048958\"/>\n      </g>\n     </g>\n     <g id=\"text_13\">\n      <!-- 0.125 -->\n      <g transform=\"translate(20.878125 94.848177)scale(0.1 -0.1)\">\n       <use xlink:href=\"#DejaVuSans-48\"/>\n       <use x=\"63.623047\" xlink:href=\"#DejaVuSans-46\"/>\n       <use x=\"95.410156\" xlink:href=\"#DejaVuSans-49\"/>\n       <use x=\"159.033203\" xlink:href=\"#DejaVuSans-50\"/>\n       <use x=\"222.65625\" xlink:href=\"#DejaVuSans-53\"/>\n      </g>\n     </g>\n    </g>\n    <g id=\"ytick_7\">\n     <g id=\"line2d_13\">\n      <g>\n       <use style=\"stroke:#000000;stroke-width:0.8;\" x=\"56.50625\" xlink:href=\"#mc9b4428fe0\" y=\"66.307477\"/>\n      </g>\n     </g>\n     <g id=\"text_14\">\n      <!-- 0.150 -->\n      <g transform=\"translate(20.878125 70.106695)scale(0.1 -0.1)\">\n       <use xlink:href=\"#DejaVuSans-48\"/>\n       <use x=\"63.623047\" xlink:href=\"#DejaVuSans-46\"/>\n       <use x=\"95.410156\" xlink:href=\"#DejaVuSans-49\"/>\n       <use x=\"159.033203\" xlink:href=\"#DejaVuSans-53\"/>\n       <use x=\"222.65625\" xlink:href=\"#DejaVuSans-48\"/>\n      </g>\n     </g>\n    </g>\n    <g id=\"ytick_8\">\n     <g id=\"line2d_14\">\n      <g>\n       <use style=\"stroke:#000000;stroke-width:0.8;\" x=\"56.50625\" xlink:href=\"#mc9b4428fe0\" y=\"41.565996\"/>\n      </g>\n     </g>\n     <g id=\"text_15\">\n      <!-- 0.175 -->\n      <g transform=\"translate(20.878125 45.365214)scale(0.1 -0.1)\">\n       <use xlink:href=\"#DejaVuSans-48\"/>\n       <use x=\"63.623047\" xlink:href=\"#DejaVuSans-46\"/>\n       <use x=\"95.410156\" xlink:href=\"#DejaVuSans-49\"/>\n       <use x=\"159.033203\" xlink:href=\"#DejaVuSans-55\"/>\n       <use x=\"222.65625\" xlink:href=\"#DejaVuSans-53\"/>\n      </g>\n     </g>\n    </g>\n    <g id=\"ytick_9\">\n     <g id=\"line2d_15\">\n      <g>\n       <use style=\"stroke:#000000;stroke-width:0.8;\" x=\"56.50625\" xlink:href=\"#mc9b4428fe0\" y=\"16.824514\"/>\n      </g>\n     </g>\n     <g id=\"text_16\">\n      <!-- 0.200 -->\n      <g transform=\"translate(20.878125 20.623733)scale(0.1 -0.1)\">\n       <use xlink:href=\"#DejaVuSans-48\"/>\n       <use x=\"63.623047\" xlink:href=\"#DejaVuSans-46\"/>\n       <use x=\"95.410156\" xlink:href=\"#DejaVuSans-50\"/>\n       <use x=\"159.033203\" xlink:href=\"#DejaVuSans-48\"/>\n       <use x=\"222.65625\" xlink:href=\"#DejaVuSans-48\"/>\n      </g>\n     </g>\n    </g>\n    <g id=\"text_17\">\n     <!-- Loss -->\n     <g transform=\"translate(14.798438 126.887188)rotate(-90)scale(0.1 -0.1)\">\n      <defs>\n       <path d=\"M 9.8125 72.90625 \nL 19.671875 72.90625 \nL 19.671875 8.296875 \nL 55.171875 8.296875 \nL 55.171875 0 \nL 9.8125 0 \nz\n\" id=\"DejaVuSans-76\"/>\n       <path d=\"M 44.28125 53.078125 \nL 44.28125 44.578125 \nQ 40.484375 46.53125 36.375 47.5 \nQ 32.28125 48.484375 27.875 48.484375 \nQ 21.1875 48.484375 17.84375 46.4375 \nQ 14.5 44.390625 14.5 40.28125 \nQ 14.5 37.15625 16.890625 35.375 \nQ 19.28125 33.59375 26.515625 31.984375 \nL 29.59375 31.296875 \nQ 39.15625 29.25 43.1875 25.515625 \nQ 47.21875 21.78125 47.21875 15.09375 \nQ 47.21875 7.46875 41.1875 3.015625 \nQ 35.15625 -1.421875 24.609375 -1.421875 \nQ 20.21875 -1.421875 15.453125 -0.5625 \nQ 10.6875 0.296875 5.421875 2 \nL 5.421875 11.28125 \nQ 10.40625 8.6875 15.234375 7.390625 \nQ 20.0625 6.109375 24.8125 6.109375 \nQ 31.15625 6.109375 34.5625 8.28125 \nQ 37.984375 10.453125 37.984375 14.40625 \nQ 37.984375 18.0625 35.515625 20.015625 \nQ 33.0625 21.96875 24.703125 23.78125 \nL 21.578125 24.515625 \nQ 13.234375 26.265625 9.515625 29.90625 \nQ 5.8125 33.546875 5.8125 39.890625 \nQ 5.8125 47.609375 11.28125 51.796875 \nQ 16.75 56 26.8125 56 \nQ 31.78125 56 36.171875 55.265625 \nQ 40.578125 54.546875 44.28125 53.078125 \nz\n\" id=\"DejaVuSans-115\"/>\n      </defs>\n      <use xlink:href=\"#DejaVuSans-76\"/>\n      <use x=\"53.962891\" xlink:href=\"#DejaVuSans-111\"/>\n      <use x=\"115.144531\" xlink:href=\"#DejaVuSans-115\"/>\n      <use x=\"167.244141\" xlink:href=\"#DejaVuSans-115\"/>\n     </g>\n    </g>\n   </g>\n   <g id=\"line2d_16\">\n    <path clip-path=\"url(#pf070c86fcf)\" d=\"M 73.799638 17.083636 \nL 419.667407 214.756364 \n\" style=\"fill:none;stroke:#1f77b4;stroke-dasharray:5.55,2.4;stroke-dashoffset:0;stroke-width:1.5;\"/>\n    <defs>\n     <path d=\"M -3 3 \nL 3 -3 \nM -3 -3 \nL 3 3 \n\" id=\"m862fdcecde\" style=\"stroke:#1f77b4;\"/>\n    </defs>\n    <g clip-path=\"url(#pf070c86fcf)\">\n     <use style=\"fill:#1f77b4;stroke:#1f77b4;\" x=\"73.799638\" xlink:href=\"#m862fdcecde\" y=\"17.083636\"/>\n     <use style=\"fill:#1f77b4;stroke:#1f77b4;\" x=\"419.667407\" xlink:href=\"#m862fdcecde\" y=\"214.756364\"/>\n    </g>\n   </g>\n   <g id=\"patch_3\">\n    <path d=\"M 56.50625 224.64 \nL 56.50625 7.2 \n\" style=\"fill:none;stroke:#000000;stroke-linecap:square;stroke-linejoin:miter;stroke-width:0.8;\"/>\n   </g>\n   <g id=\"patch_4\">\n    <path d=\"M 436.960795 224.64 \nL 436.960795 7.2 \n\" style=\"fill:none;stroke:#000000;stroke-linecap:square;stroke-linejoin:miter;stroke-width:0.8;\"/>\n   </g>\n   <g id=\"patch_5\">\n    <path d=\"M 56.50625 224.64 \nL 436.960795 224.64 \n\" style=\"fill:none;stroke:#000000;stroke-linecap:square;stroke-linejoin:miter;stroke-width:0.8;\"/>\n   </g>\n   <g id=\"patch_6\">\n    <path d=\"M 56.50625 7.2 \nL 436.960795 7.2 \n\" style=\"fill:none;stroke:#000000;stroke-linecap:square;stroke-linejoin:miter;stroke-width:0.8;\"/>\n   </g>\n  </g>\n  <g id=\"axes_2\">\n   <g id=\"patch_7\">\n    <path d=\"M 513.051705 224.64 \nL 893.50625 224.64 \nL 893.50625 7.2 \nL 513.051705 7.2 \nz\n\" style=\"fill:#ffffff;\"/>\n   </g>\n   <g id=\"matplotlib.axis_3\">\n    <g id=\"xtick_7\">\n     <g id=\"line2d_17\">\n      <g>\n       <use style=\"stroke:#000000;stroke-width:0.8;\" x=\"530.345093\" xlink:href=\"#m38e80e6093\" y=\"224.64\"/>\n      </g>\n     </g>\n     <g id=\"text_18\">\n      <!-- 0.0 -->\n      <g transform=\"translate(522.39353 239.238438)scale(0.1 -0.1)\">\n       <use xlink:href=\"#DejaVuSans-48\"/>\n       <use x=\"63.623047\" xlink:href=\"#DejaVuSans-46\"/>\n       <use x=\"95.410156\" xlink:href=\"#DejaVuSans-48\"/>\n      </g>\n     </g>\n    </g>\n    <g id=\"xtick_8\">\n     <g id=\"line2d_18\">\n      <g>\n       <use style=\"stroke:#000000;stroke-width:0.8;\" x=\"599.518647\" xlink:href=\"#m38e80e6093\" y=\"224.64\"/>\n      </g>\n     </g>\n     <g id=\"text_19\">\n      <!-- 0.2 -->\n      <g transform=\"translate(591.567084 239.238438)scale(0.1 -0.1)\">\n       <use xlink:href=\"#DejaVuSans-48\"/>\n       <use x=\"63.623047\" xlink:href=\"#DejaVuSans-46\"/>\n       <use x=\"95.410156\" xlink:href=\"#DejaVuSans-50\"/>\n      </g>\n     </g>\n    </g>\n    <g id=\"xtick_9\">\n     <g id=\"line2d_19\">\n      <g>\n       <use style=\"stroke:#000000;stroke-width:0.8;\" x=\"668.6922\" xlink:href=\"#m38e80e6093\" y=\"224.64\"/>\n      </g>\n     </g>\n     <g id=\"text_20\">\n      <!-- 0.4 -->\n      <g transform=\"translate(660.740638 239.238438)scale(0.1 -0.1)\">\n       <use xlink:href=\"#DejaVuSans-48\"/>\n       <use x=\"63.623047\" xlink:href=\"#DejaVuSans-46\"/>\n       <use x=\"95.410156\" xlink:href=\"#DejaVuSans-52\"/>\n      </g>\n     </g>\n    </g>\n    <g id=\"xtick_10\">\n     <g id=\"line2d_20\">\n      <g>\n       <use style=\"stroke:#000000;stroke-width:0.8;\" x=\"737.865754\" xlink:href=\"#m38e80e6093\" y=\"224.64\"/>\n      </g>\n     </g>\n     <g id=\"text_21\">\n      <!-- 0.6 -->\n      <g transform=\"translate(729.914192 239.238438)scale(0.1 -0.1)\">\n       <use xlink:href=\"#DejaVuSans-48\"/>\n       <use x=\"63.623047\" xlink:href=\"#DejaVuSans-46\"/>\n       <use x=\"95.410156\" xlink:href=\"#DejaVuSans-54\"/>\n      </g>\n     </g>\n    </g>\n    <g id=\"xtick_11\">\n     <g id=\"line2d_21\">\n      <g>\n       <use style=\"stroke:#000000;stroke-width:0.8;\" x=\"807.039308\" xlink:href=\"#m38e80e6093\" y=\"224.64\"/>\n      </g>\n     </g>\n     <g id=\"text_22\">\n      <!-- 0.8 -->\n      <g transform=\"translate(799.087745 239.238438)scale(0.1 -0.1)\">\n       <use xlink:href=\"#DejaVuSans-48\"/>\n       <use x=\"63.623047\" xlink:href=\"#DejaVuSans-46\"/>\n       <use x=\"95.410156\" xlink:href=\"#DejaVuSans-56\"/>\n      </g>\n     </g>\n    </g>\n    <g id=\"xtick_12\">\n     <g id=\"line2d_22\">\n      <g>\n       <use style=\"stroke:#000000;stroke-width:0.8;\" x=\"876.212862\" xlink:href=\"#m38e80e6093\" y=\"224.64\"/>\n      </g>\n     </g>\n     <g id=\"text_23\">\n      <!-- 1.0 -->\n      <g transform=\"translate(868.261299 239.238438)scale(0.1 -0.1)\">\n       <use xlink:href=\"#DejaVuSans-49\"/>\n       <use x=\"63.623047\" xlink:href=\"#DejaVuSans-46\"/>\n       <use x=\"95.410156\" xlink:href=\"#DejaVuSans-48\"/>\n      </g>\n     </g>\n    </g>\n    <g id=\"text_24\">\n     <!-- Epoch -->\n     <g transform=\"translate(687.96804 252.916563)scale(0.1 -0.1)\">\n      <use xlink:href=\"#DejaVuSans-69\"/>\n      <use x=\"63.183594\" xlink:href=\"#DejaVuSans-112\"/>\n      <use x=\"126.660156\" xlink:href=\"#DejaVuSans-111\"/>\n      <use x=\"187.841797\" xlink:href=\"#DejaVuSans-99\"/>\n      <use x=\"242.822266\" xlink:href=\"#DejaVuSans-104\"/>\n     </g>\n    </g>\n   </g>\n   <g id=\"matplotlib.axis_4\">\n    <g id=\"ytick_10\">\n     <g id=\"line2d_23\">\n      <g>\n       <use style=\"stroke:#000000;stroke-width:0.8;\" x=\"513.051705\" xlink:href=\"#mc9b4428fe0\" y=\"196.268815\"/>\n      </g>\n     </g>\n     <g id=\"text_25\">\n      <!-- −14.4 -->\n      <g transform=\"translate(475.406392 200.068033)scale(0.1 -0.1)\">\n       <defs>\n        <path d=\"M 10.59375 35.5 \nL 73.1875 35.5 \nL 73.1875 27.203125 \nL 10.59375 27.203125 \nz\n\" id=\"DejaVuSans-8722\"/>\n       </defs>\n       <use xlink:href=\"#DejaVuSans-8722\"/>\n       <use x=\"83.789062\" xlink:href=\"#DejaVuSans-49\"/>\n       <use x=\"147.412109\" xlink:href=\"#DejaVuSans-52\"/>\n       <use x=\"211.035156\" xlink:href=\"#DejaVuSans-46\"/>\n       <use x=\"242.822266\" xlink:href=\"#DejaVuSans-52\"/>\n      </g>\n     </g>\n    </g>\n    <g id=\"ytick_11\">\n     <g id=\"line2d_24\">\n      <g>\n       <use style=\"stroke:#000000;stroke-width:0.8;\" x=\"513.051705\" xlink:href=\"#mc9b4428fe0\" y=\"167.698313\"/>\n      </g>\n     </g>\n     <g id=\"text_26\">\n      <!-- −14.2 -->\n      <g transform=\"translate(475.406392 171.497532)scale(0.1 -0.1)\">\n       <use xlink:href=\"#DejaVuSans-8722\"/>\n       <use x=\"83.789062\" xlink:href=\"#DejaVuSans-49\"/>\n       <use x=\"147.412109\" xlink:href=\"#DejaVuSans-52\"/>\n       <use x=\"211.035156\" xlink:href=\"#DejaVuSans-46\"/>\n       <use x=\"242.822266\" xlink:href=\"#DejaVuSans-50\"/>\n      </g>\n     </g>\n    </g>\n    <g id=\"ytick_12\">\n     <g id=\"line2d_25\">\n      <g>\n       <use style=\"stroke:#000000;stroke-width:0.8;\" x=\"513.051705\" xlink:href=\"#mc9b4428fe0\" y=\"139.127812\"/>\n      </g>\n     </g>\n     <g id=\"text_27\">\n      <!-- −14.0 -->\n      <g transform=\"translate(475.406392 142.927031)scale(0.1 -0.1)\">\n       <use xlink:href=\"#DejaVuSans-8722\"/>\n       <use x=\"83.789062\" xlink:href=\"#DejaVuSans-49\"/>\n       <use x=\"147.412109\" xlink:href=\"#DejaVuSans-52\"/>\n       <use x=\"211.035156\" xlink:href=\"#DejaVuSans-46\"/>\n       <use x=\"242.822266\" xlink:href=\"#DejaVuSans-48\"/>\n      </g>\n     </g>\n    </g>\n    <g id=\"ytick_13\">\n     <g id=\"line2d_26\">\n      <g>\n       <use style=\"stroke:#000000;stroke-width:0.8;\" x=\"513.051705\" xlink:href=\"#mc9b4428fe0\" y=\"110.557311\"/>\n      </g>\n     </g>\n     <g id=\"text_28\">\n      <!-- −13.8 -->\n      <g transform=\"translate(475.406392 114.35653)scale(0.1 -0.1)\">\n       <defs>\n        <path d=\"M 40.578125 39.3125 \nQ 47.65625 37.796875 51.625 33 \nQ 55.609375 28.21875 55.609375 21.1875 \nQ 55.609375 10.40625 48.1875 4.484375 \nQ 40.765625 -1.421875 27.09375 -1.421875 \nQ 22.515625 -1.421875 17.65625 -0.515625 \nQ 12.796875 0.390625 7.625 2.203125 \nL 7.625 11.71875 \nQ 11.71875 9.328125 16.59375 8.109375 \nQ 21.484375 6.890625 26.8125 6.890625 \nQ 36.078125 6.890625 40.9375 10.546875 \nQ 45.796875 14.203125 45.796875 21.1875 \nQ 45.796875 27.640625 41.28125 31.265625 \nQ 36.765625 34.90625 28.71875 34.90625 \nL 20.21875 34.90625 \nL 20.21875 43.015625 \nL 29.109375 43.015625 \nQ 36.375 43.015625 40.234375 45.921875 \nQ 44.09375 48.828125 44.09375 54.296875 \nQ 44.09375 59.90625 40.109375 62.90625 \nQ 36.140625 65.921875 28.71875 65.921875 \nQ 24.65625 65.921875 20.015625 65.03125 \nQ 15.375 64.15625 9.8125 62.3125 \nL 9.8125 71.09375 \nQ 15.4375 72.65625 20.34375 73.4375 \nQ 25.25 74.21875 29.59375 74.21875 \nQ 40.828125 74.21875 47.359375 69.109375 \nQ 53.90625 64.015625 53.90625 55.328125 \nQ 53.90625 49.265625 50.4375 45.09375 \nQ 46.96875 40.921875 40.578125 39.3125 \nz\n\" id=\"DejaVuSans-51\"/>\n       </defs>\n       <use xlink:href=\"#DejaVuSans-8722\"/>\n       <use x=\"83.789062\" xlink:href=\"#DejaVuSans-49\"/>\n       <use x=\"147.412109\" xlink:href=\"#DejaVuSans-51\"/>\n       <use x=\"211.035156\" xlink:href=\"#DejaVuSans-46\"/>\n       <use x=\"242.822266\" xlink:href=\"#DejaVuSans-56\"/>\n      </g>\n     </g>\n    </g>\n    <g id=\"ytick_14\">\n     <g id=\"line2d_27\">\n      <g>\n       <use style=\"stroke:#000000;stroke-width:0.8;\" x=\"513.051705\" xlink:href=\"#mc9b4428fe0\" y=\"81.98681\"/>\n      </g>\n     </g>\n     <g id=\"text_29\">\n      <!-- −13.6 -->\n      <g transform=\"translate(475.406392 85.786029)scale(0.1 -0.1)\">\n       <use xlink:href=\"#DejaVuSans-8722\"/>\n       <use x=\"83.789062\" xlink:href=\"#DejaVuSans-49\"/>\n       <use x=\"147.412109\" xlink:href=\"#DejaVuSans-51\"/>\n       <use x=\"211.035156\" xlink:href=\"#DejaVuSans-46\"/>\n       <use x=\"242.822266\" xlink:href=\"#DejaVuSans-54\"/>\n      </g>\n     </g>\n    </g>\n    <g id=\"ytick_15\">\n     <g id=\"line2d_28\">\n      <g>\n       <use style=\"stroke:#000000;stroke-width:0.8;\" x=\"513.051705\" xlink:href=\"#mc9b4428fe0\" y=\"53.416309\"/>\n      </g>\n     </g>\n     <g id=\"text_30\">\n      <!-- −13.4 -->\n      <g transform=\"translate(475.406392 57.215527)scale(0.1 -0.1)\">\n       <use xlink:href=\"#DejaVuSans-8722\"/>\n       <use x=\"83.789062\" xlink:href=\"#DejaVuSans-49\"/>\n       <use x=\"147.412109\" xlink:href=\"#DejaVuSans-51\"/>\n       <use x=\"211.035156\" xlink:href=\"#DejaVuSans-46\"/>\n       <use x=\"242.822266\" xlink:href=\"#DejaVuSans-52\"/>\n      </g>\n     </g>\n    </g>\n    <g id=\"ytick_16\">\n     <g id=\"line2d_29\">\n      <g>\n       <use style=\"stroke:#000000;stroke-width:0.8;\" x=\"513.051705\" xlink:href=\"#mc9b4428fe0\" y=\"24.845807\"/>\n      </g>\n     </g>\n     <g id=\"text_31\">\n      <!-- −13.2 -->\n      <g transform=\"translate(475.406392 28.645026)scale(0.1 -0.1)\">\n       <use xlink:href=\"#DejaVuSans-8722\"/>\n       <use x=\"83.789062\" xlink:href=\"#DejaVuSans-49\"/>\n       <use x=\"147.412109\" xlink:href=\"#DejaVuSans-51\"/>\n       <use x=\"211.035156\" xlink:href=\"#DejaVuSans-46\"/>\n       <use x=\"242.822266\" xlink:href=\"#DejaVuSans-50\"/>\n      </g>\n     </g>\n    </g>\n    <g id=\"text_32\">\n     <!-- Train log-prob -->\n     <g transform=\"translate(469.326705 150.280156)rotate(-90)scale(0.1 -0.1)\">\n      <defs>\n       <path d=\"M -0.296875 72.90625 \nL 61.375 72.90625 \nL 61.375 64.59375 \nL 35.5 64.59375 \nL 35.5 0 \nL 25.59375 0 \nL 25.59375 64.59375 \nL -0.296875 64.59375 \nz\n\" id=\"DejaVuSans-84\"/>\n       <path d=\"M 41.109375 46.296875 \nQ 39.59375 47.171875 37.8125 47.578125 \nQ 36.03125 48 33.890625 48 \nQ 26.265625 48 22.1875 43.046875 \nQ 18.109375 38.09375 18.109375 28.8125 \nL 18.109375 0 \nL 9.078125 0 \nL 9.078125 54.6875 \nL 18.109375 54.6875 \nL 18.109375 46.1875 \nQ 20.953125 51.171875 25.484375 53.578125 \nQ 30.03125 56 36.53125 56 \nQ 37.453125 56 38.578125 55.875 \nQ 39.703125 55.765625 41.0625 55.515625 \nz\n\" id=\"DejaVuSans-114\"/>\n       <path d=\"M 34.28125 27.484375 \nQ 23.390625 27.484375 19.1875 25 \nQ 14.984375 22.515625 14.984375 16.5 \nQ 14.984375 11.71875 18.140625 8.90625 \nQ 21.296875 6.109375 26.703125 6.109375 \nQ 34.1875 6.109375 38.703125 11.40625 \nQ 43.21875 16.703125 43.21875 25.484375 \nL 43.21875 27.484375 \nz\nM 52.203125 31.203125 \nL 52.203125 0 \nL 43.21875 0 \nL 43.21875 8.296875 \nQ 40.140625 3.328125 35.546875 0.953125 \nQ 30.953125 -1.421875 24.3125 -1.421875 \nQ 15.921875 -1.421875 10.953125 3.296875 \nQ 6 8.015625 6 15.921875 \nQ 6 25.140625 12.171875 29.828125 \nQ 18.359375 34.515625 30.609375 34.515625 \nL 43.21875 34.515625 \nL 43.21875 35.40625 \nQ 43.21875 41.609375 39.140625 45 \nQ 35.0625 48.390625 27.6875 48.390625 \nQ 23 48.390625 18.546875 47.265625 \nQ 14.109375 46.140625 10.015625 43.890625 \nL 10.015625 52.203125 \nQ 14.9375 54.109375 19.578125 55.046875 \nQ 24.21875 56 28.609375 56 \nQ 40.484375 56 46.34375 49.84375 \nQ 52.203125 43.703125 52.203125 31.203125 \nz\n\" id=\"DejaVuSans-97\"/>\n       <path d=\"M 9.421875 54.6875 \nL 18.40625 54.6875 \nL 18.40625 0 \nL 9.421875 0 \nz\nM 9.421875 75.984375 \nL 18.40625 75.984375 \nL 18.40625 64.59375 \nL 9.421875 64.59375 \nz\n\" id=\"DejaVuSans-105\"/>\n       <path d=\"M 54.890625 33.015625 \nL 54.890625 0 \nL 45.90625 0 \nL 45.90625 32.71875 \nQ 45.90625 40.484375 42.875 44.328125 \nQ 39.84375 48.1875 33.796875 48.1875 \nQ 26.515625 48.1875 22.3125 43.546875 \nQ 18.109375 38.921875 18.109375 30.90625 \nL 18.109375 0 \nL 9.078125 0 \nL 9.078125 54.6875 \nL 18.109375 54.6875 \nL 18.109375 46.1875 \nQ 21.34375 51.125 25.703125 53.5625 \nQ 30.078125 56 35.796875 56 \nQ 45.21875 56 50.046875 50.171875 \nQ 54.890625 44.34375 54.890625 33.015625 \nz\n\" id=\"DejaVuSans-110\"/>\n       <path id=\"DejaVuSans-32\"/>\n       <path d=\"M 9.421875 75.984375 \nL 18.40625 75.984375 \nL 18.40625 0 \nL 9.421875 0 \nz\n\" id=\"DejaVuSans-108\"/>\n       <path d=\"M 45.40625 27.984375 \nQ 45.40625 37.75 41.375 43.109375 \nQ 37.359375 48.484375 30.078125 48.484375 \nQ 22.859375 48.484375 18.828125 43.109375 \nQ 14.796875 37.75 14.796875 27.984375 \nQ 14.796875 18.265625 18.828125 12.890625 \nQ 22.859375 7.515625 30.078125 7.515625 \nQ 37.359375 7.515625 41.375 12.890625 \nQ 45.40625 18.265625 45.40625 27.984375 \nz\nM 54.390625 6.78125 \nQ 54.390625 -7.171875 48.1875 -13.984375 \nQ 42 -20.796875 29.203125 -20.796875 \nQ 24.46875 -20.796875 20.265625 -20.09375 \nQ 16.0625 -19.390625 12.109375 -17.921875 \nL 12.109375 -9.1875 \nQ 16.0625 -11.328125 19.921875 -12.34375 \nQ 23.78125 -13.375 27.78125 -13.375 \nQ 36.625 -13.375 41.015625 -8.765625 \nQ 45.40625 -4.15625 45.40625 5.171875 \nL 45.40625 9.625 \nQ 42.625 4.78125 38.28125 2.390625 \nQ 33.9375 0 27.875 0 \nQ 17.828125 0 11.671875 7.65625 \nQ 5.515625 15.328125 5.515625 27.984375 \nQ 5.515625 40.671875 11.671875 48.328125 \nQ 17.828125 56 27.875 56 \nQ 33.9375 56 38.28125 53.609375 \nQ 42.625 51.21875 45.40625 46.390625 \nL 45.40625 54.6875 \nL 54.390625 54.6875 \nz\n\" id=\"DejaVuSans-103\"/>\n       <path d=\"M 4.890625 31.390625 \nL 31.203125 31.390625 \nL 31.203125 23.390625 \nL 4.890625 23.390625 \nz\n\" id=\"DejaVuSans-45\"/>\n       <path d=\"M 48.6875 27.296875 \nQ 48.6875 37.203125 44.609375 42.84375 \nQ 40.53125 48.484375 33.40625 48.484375 \nQ 26.265625 48.484375 22.1875 42.84375 \nQ 18.109375 37.203125 18.109375 27.296875 \nQ 18.109375 17.390625 22.1875 11.75 \nQ 26.265625 6.109375 33.40625 6.109375 \nQ 40.53125 6.109375 44.609375 11.75 \nQ 48.6875 17.390625 48.6875 27.296875 \nz\nM 18.109375 46.390625 \nQ 20.953125 51.265625 25.265625 53.625 \nQ 29.59375 56 35.59375 56 \nQ 45.5625 56 51.78125 48.09375 \nQ 58.015625 40.1875 58.015625 27.296875 \nQ 58.015625 14.40625 51.78125 6.484375 \nQ 45.5625 -1.421875 35.59375 -1.421875 \nQ 29.59375 -1.421875 25.265625 0.953125 \nQ 20.953125 3.328125 18.109375 8.203125 \nL 18.109375 0 \nL 9.078125 0 \nL 9.078125 75.984375 \nL 18.109375 75.984375 \nz\n\" id=\"DejaVuSans-98\"/>\n      </defs>\n      <use xlink:href=\"#DejaVuSans-84\"/>\n      <use x=\"46.333984\" xlink:href=\"#DejaVuSans-114\"/>\n      <use x=\"87.447266\" xlink:href=\"#DejaVuSans-97\"/>\n      <use x=\"148.726562\" xlink:href=\"#DejaVuSans-105\"/>\n      <use x=\"176.509766\" xlink:href=\"#DejaVuSans-110\"/>\n      <use x=\"239.888672\" xlink:href=\"#DejaVuSans-32\"/>\n      <use x=\"271.675781\" xlink:href=\"#DejaVuSans-108\"/>\n      <use x=\"299.458984\" xlink:href=\"#DejaVuSans-111\"/>\n      <use x=\"360.640625\" xlink:href=\"#DejaVuSans-103\"/>\n      <use x=\"424.117188\" xlink:href=\"#DejaVuSans-45\"/>\n      <use x=\"460.201172\" xlink:href=\"#DejaVuSans-112\"/>\n      <use x=\"523.677734\" xlink:href=\"#DejaVuSans-114\"/>\n      <use x=\"562.541016\" xlink:href=\"#DejaVuSans-111\"/>\n      <use x=\"623.722656\" xlink:href=\"#DejaVuSans-98\"/>\n     </g>\n    </g>\n   </g>\n   <g id=\"line2d_30\">\n    <path clip-path=\"url(#p25bc5ba2b3)\" d=\"M 530.345093 115.92 \nL 876.212862 115.92 \n\" style=\"fill:none;stroke:#1f77b4;stroke-dasharray:5.55,2.4;stroke-dashoffset:0;stroke-width:1.5;\"/>\n    <g clip-path=\"url(#p25bc5ba2b3)\">\n     <use style=\"fill:#1f77b4;stroke:#1f77b4;\" x=\"530.345093\" xlink:href=\"#m862fdcecde\" y=\"115.92\"/>\n     <use style=\"fill:#1f77b4;stroke:#1f77b4;\" x=\"876.212862\" xlink:href=\"#m862fdcecde\" y=\"115.92\"/>\n    </g>\n   </g>\n   <g id=\"line2d_31\">\n    <path clip-path=\"url(#p25bc5ba2b3)\" d=\"M 513.051705 127.590241 \nL 893.50625 127.590241 \n\" style=\"fill:none;stroke:#ff0000;stroke-dasharray:5.55,2.4;stroke-dashoffset:0;stroke-width:1.5;\"/>\n   </g>\n   <g id=\"patch_8\">\n    <path d=\"M 513.051705 224.64 \nL 513.051705 7.2 \n\" style=\"fill:none;stroke:#000000;stroke-linecap:square;stroke-linejoin:miter;stroke-width:0.8;\"/>\n   </g>\n   <g id=\"patch_9\">\n    <path d=\"M 893.50625 224.64 \nL 893.50625 7.2 \n\" style=\"fill:none;stroke:#000000;stroke-linecap:square;stroke-linejoin:miter;stroke-width:0.8;\"/>\n   </g>\n   <g id=\"patch_10\">\n    <path d=\"M 513.051705 224.64 \nL 893.50625 224.64 \n\" style=\"fill:none;stroke:#000000;stroke-linecap:square;stroke-linejoin:miter;stroke-width:0.8;\"/>\n   </g>\n   <g id=\"patch_11\">\n    <path d=\"M 513.051705 7.2 \nL 893.50625 7.2 \n\" style=\"fill:none;stroke:#000000;stroke-linecap:square;stroke-linejoin:miter;stroke-width:0.8;\"/>\n   </g>\n   <g id=\"legend_1\">\n    <g id=\"patch_12\">\n     <path d=\"M 830.51875 44.55625 \nL 886.50625 44.55625 \nQ 888.50625 44.55625 888.50625 42.55625 \nL 888.50625 14.2 \nQ 888.50625 12.2 886.50625 12.2 \nL 830.51875 12.2 \nQ 828.51875 12.2 828.51875 14.2 \nL 828.51875 42.55625 \nQ 828.51875 44.55625 830.51875 44.55625 \nz\n\" style=\"fill:#ffffff;opacity:0.8;stroke:#cccccc;stroke-linejoin:miter;\"/>\n    </g>\n    <g id=\"line2d_32\">\n     <path d=\"M 832.51875 20.298438 \nL 852.51875 20.298438 \n\" style=\"fill:none;stroke:#1f77b4;stroke-dasharray:5.55,2.4;stroke-dashoffset:0;stroke-width:1.5;\"/>\n    </g>\n    <g id=\"line2d_33\">\n     <g>\n      <use style=\"fill:#1f77b4;stroke:#1f77b4;\" x=\"842.51875\" xlink:href=\"#m862fdcecde\" y=\"20.298438\"/>\n     </g>\n    </g>\n    <g id=\"text_33\">\n     <!-- Train -->\n     <g transform=\"translate(860.51875 23.798438)scale(0.1 -0.1)\">\n      <use xlink:href=\"#DejaVuSans-84\"/>\n      <use x=\"46.333984\" xlink:href=\"#DejaVuSans-114\"/>\n      <use x=\"87.447266\" xlink:href=\"#DejaVuSans-97\"/>\n      <use x=\"148.726562\" xlink:href=\"#DejaVuSans-105\"/>\n      <use x=\"176.509766\" xlink:href=\"#DejaVuSans-110\"/>\n     </g>\n    </g>\n    <g id=\"line2d_34\">\n     <path d=\"M 832.51875 34.976562 \nL 852.51875 34.976562 \n\" style=\"fill:none;stroke:#ff0000;stroke-dasharray:5.55,2.4;stroke-dashoffset:0;stroke-width:1.5;\"/>\n    </g>\n    <g id=\"line2d_35\"/>\n    <g id=\"text_34\">\n     <!-- Test -->\n     <g transform=\"translate(860.51875 38.476562)scale(0.1 -0.1)\">\n      <defs>\n       <path d=\"M 56.203125 29.59375 \nL 56.203125 25.203125 \nL 14.890625 25.203125 \nQ 15.484375 15.921875 20.484375 11.0625 \nQ 25.484375 6.203125 34.421875 6.203125 \nQ 39.59375 6.203125 44.453125 7.46875 \nQ 49.3125 8.734375 54.109375 11.28125 \nL 54.109375 2.78125 \nQ 49.265625 0.734375 44.1875 -0.34375 \nQ 39.109375 -1.421875 33.890625 -1.421875 \nQ 20.796875 -1.421875 13.15625 6.1875 \nQ 5.515625 13.8125 5.515625 26.8125 \nQ 5.515625 40.234375 12.765625 48.109375 \nQ 20.015625 56 32.328125 56 \nQ 43.359375 56 49.78125 48.890625 \nQ 56.203125 41.796875 56.203125 29.59375 \nz\nM 47.21875 32.234375 \nQ 47.125 39.59375 43.09375 43.984375 \nQ 39.0625 48.390625 32.421875 48.390625 \nQ 24.90625 48.390625 20.390625 44.140625 \nQ 15.875 39.890625 15.1875 32.171875 \nz\n\" id=\"DejaVuSans-101\"/>\n       <path d=\"M 18.3125 70.21875 \nL 18.3125 54.6875 \nL 36.8125 54.6875 \nL 36.8125 47.703125 \nL 18.3125 47.703125 \nL 18.3125 18.015625 \nQ 18.3125 11.328125 20.140625 9.421875 \nQ 21.96875 7.515625 27.59375 7.515625 \nL 36.8125 7.515625 \nL 36.8125 0 \nL 27.59375 0 \nQ 17.1875 0 13.234375 3.875 \nQ 9.28125 7.765625 9.28125 18.015625 \nL 9.28125 47.703125 \nL 2.6875 47.703125 \nL 2.6875 54.6875 \nL 9.28125 54.6875 \nL 9.28125 70.21875 \nz\n\" id=\"DejaVuSans-116\"/>\n      </defs>\n      <use xlink:href=\"#DejaVuSans-84\"/>\n      <use x=\"44.083984\" xlink:href=\"#DejaVuSans-101\"/>\n      <use x=\"105.607422\" xlink:href=\"#DejaVuSans-115\"/>\n      <use x=\"157.707031\" xlink:href=\"#DejaVuSans-116\"/>\n     </g>\n    </g>\n   </g>\n  </g>\n </g>\n <defs>\n  <clipPath id=\"pf070c86fcf\">\n   <rect height=\"217.44\" width=\"380.454545\" x=\"56.50625\" y=\"7.2\"/>\n  </clipPath>\n  <clipPath id=\"p25bc5ba2b3\">\n   <rect height=\"217.44\" width=\"380.454545\" x=\"513.051705\" y=\"7.2\"/>\n  </clipPath>\n </defs>\n</svg>\n",
      "image/png": "[encoded data removed]"
     },
     "metadata": {
      "needs_background": "light"
     }
    }
   ],
   "source": [
    "logs = fit_viterbi(hmm=hmm_viterbi, X_train=dataset['train'])\n",
    "hmm_basic_info(hmm_viterbi)\n",
    "training_plots(hmm_viterbi, logs['losses'], logs['probas'], dataset['test'])"
   ]
  },
  {
   "cell_type": "markdown",
   "metadata": {
    "deletable": false,
    "editable": false,
    "nbgrader": {
     "cell_type": "markdown",
     "checksum": "3ee18e201a1a9d06826414e805f0152c",
     "grade": false,
     "grade_id": "baum-welch",
     "locked": true,
     "points": 0,
     "schema_version": 3,
     "solution": false,
     "task": true
    }
   },
   "source": [
    "# Zadanie dodatkowe (1 p.)\n",
    "Drugim algorytmem uczenia HMM jest algorytm Baum-Welcha (Forward-Backward). Zadanie dodatkowe polega na implementacji tego algorytmu w podobny sposób jak algorytm Viterbiego.\n"
   ]
  },
  {
   "cell_type": "markdown",
   "metadata": {},
   "source": [
    "**Dodatkowe źródła**:\n",
    "- [Forward+Viterbi] https://www.cis.upenn.edu/~cis262/notes/Example-Viterbi-DNA.pdf\n",
    "- [Full intro to HMM + Forward + Viterbi] https://www.seas.upenn.edu/~cis262/notes/cis262-hmm.pdf\n",
    "- [Intro to HMM + Forward + Viterbi + Forward-Backward] http://www.cs.tut.fi/kurssit/SGN-24006/PDF/L08-HMMs.pdf\n",
    "- [Baum-Welch] https://en.wikipedia.org/wiki/Baum–Welch_algorithm\n",
    "- [Baum-Welch implementation] http://www.adeveloperdiary.com/data-science/machine-learning/derivation-and-implementation-of-baum-welch-algorithm-for-hidden-markov-model/\n",
    "- [Forward and backward implementations] http://www.adeveloperdiary.com/data-science/machine-learning/forward-and-backward-algorithm-in-hidden-markov-model/\n",
    "- [Viterbi implementation] http://www.adeveloperdiary.com/data-science/machine-learning/implement-viterbi-algorithm-in-hidden-markov-model-using-python-and-r/"
   ]
  }
 ],
 "metadata": {
  "kernelspec": {
   "name": "python382jvsc74a57bd0f0545359fd8874728fa15534fbfd9d83780463b5d27770e3043345b26761f8c1",
   "display_name": "Python 3.8.2 64-bit ('puma_venv': venv)"
  },
  "language_info": {
   "codemirror_mode": {
    "name": "ipython",
    "version": 3
   },
   "file_extension": ".py",
   "mimetype": "text/x-python",
   "name": "python",
   "nbconvert_exporter": "python",
   "pygments_lexer": "ipython3",
   "version": "3.8.2"
  }
 },
 "nbformat": 4,
 "nbformat_minor": 4
}